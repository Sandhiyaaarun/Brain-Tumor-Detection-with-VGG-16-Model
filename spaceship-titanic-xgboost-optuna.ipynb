{
 "cells": [
  {
   "cell_type": "code",
   "execution_count": 1,
   "id": "623f6b27",
   "metadata": {
    "execution": {
     "iopub.execute_input": "2023-01-22T11:27:44.780279Z",
     "iopub.status.busy": "2023-01-22T11:27:44.779330Z",
     "iopub.status.idle": "2023-01-22T11:27:50.716073Z",
     "shell.execute_reply": "2023-01-22T11:27:50.715042Z"
    },
    "papermill": {
     "duration": 5.961742,
     "end_time": "2023-01-22T11:27:50.719006",
     "exception": false,
     "start_time": "2023-01-22T11:27:44.757264",
     "status": "completed"
    },
    "tags": []
   },
   "outputs": [],
   "source": [
    "import numpy as np\n",
    "import pandas as pd \n",
    "import matplotlib.pyplot as plt\n",
    "%matplotlib inline\n",
    "import seaborn as sns\n",
    "from statistics import mean\n",
    "from tqdm.notebook import tqdm\n",
    "import missingno as mn\n",
    "import plotly.express as px\n",
    "from scipy import stats\n",
    "from sklearn import preprocessing\n",
    "from sklearn.impute import SimpleImputer\n",
    "from sklearn.preprocessing import OrdinalEncoder,LabelEncoder,StandardScaler,power_transform,OneHotEncoder\n",
    "from sklearn.impute import SimpleImputer\n",
    "from sklearn.model_selection import KFold,StratifiedKFold,RepeatedKFold, GridSearchCV, RandomizedSearchCV,cross_val_score\n",
    "from sklearn.linear_model import LogisticRegression\n",
    "from sklearn.metrics import roc_auc_score,roc_curve,f1_score,accuracy_score\n",
    "from sklearn.svm import LinearSVC,SVC\n",
    "from sklearn.linear_model import SGDClassifier\n",
    "from sklearn.pipeline import Pipeline\n",
    "from sklearn.preprocessing import PolynomialFeatures\n",
    "from sklearn.compose import make_column_transformer\n",
    "from sklearn.tree import DecisionTreeClassifier\n",
    "from sklearn.ensemble import BaggingClassifier,RandomForestClassifier,ExtraTreesClassifier,AdaBoostClassifier,GradientBoostingClassifier,HistGradientBoostingClassifier\n",
    "from mlxtend.classifier import StackingClassifier\n",
    "import warnings\n",
    "warnings.simplefilter('ignore')\n",
    "from xgboost import XGBClassifier\n",
    "from scipy import stats\n",
    "from scipy.stats import loguniform, randint\n",
    "from skopt import BayesSearchCV\n",
    "import optuna\n",
    "import shap\n",
    "sns.set_style('whitegrid')\n",
    "sns.color_palette(\"flare\")\n",
    "sns.set_palette(sns.color_palette(\"flare\"))\n",
    "pd.set_option('display.max_columns', None)"
   ]
  },
  {
   "cell_type": "code",
   "execution_count": 2,
   "id": "ed75b9e5",
   "metadata": {
    "execution": {
     "iopub.execute_input": "2023-01-22T11:27:50.760064Z",
     "iopub.status.busy": "2023-01-22T11:27:50.758454Z",
     "iopub.status.idle": "2023-01-22T11:27:50.848733Z",
     "shell.execute_reply": "2023-01-22T11:27:50.847720Z"
    },
    "papermill": {
     "duration": 0.114197,
     "end_time": "2023-01-22T11:27:50.851725",
     "exception": false,
     "start_time": "2023-01-22T11:27:50.737528",
     "status": "completed"
    },
    "tags": []
   },
   "outputs": [],
   "source": [
    "train = pd.read_csv('../input/spaceship-titanic/train.csv')\n",
    "test_c= pd.read_csv('../input/spaceship-titanic/test.csv')\n",
    "test = test_c.copy()"
   ]
  },
  {
   "cell_type": "code",
   "execution_count": 3,
   "id": "170fe20d",
   "metadata": {
    "execution": {
     "iopub.execute_input": "2023-01-22T11:27:50.891797Z",
     "iopub.status.busy": "2023-01-22T11:27:50.891049Z",
     "iopub.status.idle": "2023-01-22T11:27:50.940603Z",
     "shell.execute_reply": "2023-01-22T11:27:50.939301Z"
    },
    "papermill": {
     "duration": 0.072592,
     "end_time": "2023-01-22T11:27:50.943546",
     "exception": false,
     "start_time": "2023-01-22T11:27:50.870954",
     "status": "completed"
    },
    "tags": []
   },
   "outputs": [
    {
     "data": {
      "text/html": [
       "<div>\n",
       "<style scoped>\n",
       "    .dataframe tbody tr th:only-of-type {\n",
       "        vertical-align: middle;\n",
       "    }\n",
       "\n",
       "    .dataframe tbody tr th {\n",
       "        vertical-align: top;\n",
       "    }\n",
       "\n",
       "    .dataframe thead th {\n",
       "        text-align: right;\n",
       "    }\n",
       "</style>\n",
       "<table border=\"1\" class=\"dataframe\">\n",
       "  <thead>\n",
       "    <tr style=\"text-align: right;\">\n",
       "      <th></th>\n",
       "      <th>PassengerId</th>\n",
       "      <th>HomePlanet</th>\n",
       "      <th>CryoSleep</th>\n",
       "      <th>Cabin</th>\n",
       "      <th>Destination</th>\n",
       "      <th>Age</th>\n",
       "      <th>VIP</th>\n",
       "      <th>RoomService</th>\n",
       "      <th>FoodCourt</th>\n",
       "      <th>ShoppingMall</th>\n",
       "      <th>Spa</th>\n",
       "      <th>VRDeck</th>\n",
       "      <th>Name</th>\n",
       "      <th>Transported</th>\n",
       "    </tr>\n",
       "  </thead>\n",
       "  <tbody>\n",
       "    <tr>\n",
       "      <th>0</th>\n",
       "      <td>0001_01</td>\n",
       "      <td>Europa</td>\n",
       "      <td>False</td>\n",
       "      <td>B/0/P</td>\n",
       "      <td>TRAPPIST-1e</td>\n",
       "      <td>39.0</td>\n",
       "      <td>False</td>\n",
       "      <td>0.0</td>\n",
       "      <td>0.0</td>\n",
       "      <td>0.0</td>\n",
       "      <td>0.0</td>\n",
       "      <td>0.0</td>\n",
       "      <td>Maham Ofracculy</td>\n",
       "      <td>False</td>\n",
       "    </tr>\n",
       "    <tr>\n",
       "      <th>1</th>\n",
       "      <td>0002_01</td>\n",
       "      <td>Earth</td>\n",
       "      <td>False</td>\n",
       "      <td>F/0/S</td>\n",
       "      <td>TRAPPIST-1e</td>\n",
       "      <td>24.0</td>\n",
       "      <td>False</td>\n",
       "      <td>109.0</td>\n",
       "      <td>9.0</td>\n",
       "      <td>25.0</td>\n",
       "      <td>549.0</td>\n",
       "      <td>44.0</td>\n",
       "      <td>Juanna Vines</td>\n",
       "      <td>True</td>\n",
       "    </tr>\n",
       "    <tr>\n",
       "      <th>2</th>\n",
       "      <td>0003_01</td>\n",
       "      <td>Europa</td>\n",
       "      <td>False</td>\n",
       "      <td>A/0/S</td>\n",
       "      <td>TRAPPIST-1e</td>\n",
       "      <td>58.0</td>\n",
       "      <td>True</td>\n",
       "      <td>43.0</td>\n",
       "      <td>3576.0</td>\n",
       "      <td>0.0</td>\n",
       "      <td>6715.0</td>\n",
       "      <td>49.0</td>\n",
       "      <td>Altark Susent</td>\n",
       "      <td>False</td>\n",
       "    </tr>\n",
       "    <tr>\n",
       "      <th>3</th>\n",
       "      <td>0003_02</td>\n",
       "      <td>Europa</td>\n",
       "      <td>False</td>\n",
       "      <td>A/0/S</td>\n",
       "      <td>TRAPPIST-1e</td>\n",
       "      <td>33.0</td>\n",
       "      <td>False</td>\n",
       "      <td>0.0</td>\n",
       "      <td>1283.0</td>\n",
       "      <td>371.0</td>\n",
       "      <td>3329.0</td>\n",
       "      <td>193.0</td>\n",
       "      <td>Solam Susent</td>\n",
       "      <td>False</td>\n",
       "    </tr>\n",
       "    <tr>\n",
       "      <th>4</th>\n",
       "      <td>0004_01</td>\n",
       "      <td>Earth</td>\n",
       "      <td>False</td>\n",
       "      <td>F/1/S</td>\n",
       "      <td>TRAPPIST-1e</td>\n",
       "      <td>16.0</td>\n",
       "      <td>False</td>\n",
       "      <td>303.0</td>\n",
       "      <td>70.0</td>\n",
       "      <td>151.0</td>\n",
       "      <td>565.0</td>\n",
       "      <td>2.0</td>\n",
       "      <td>Willy Santantines</td>\n",
       "      <td>True</td>\n",
       "    </tr>\n",
       "  </tbody>\n",
       "</table>\n",
       "</div>"
      ],
      "text/plain": [
       "  PassengerId HomePlanet CryoSleep  Cabin  Destination   Age    VIP  \\\n",
       "0     0001_01     Europa     False  B/0/P  TRAPPIST-1e  39.0  False   \n",
       "1     0002_01      Earth     False  F/0/S  TRAPPIST-1e  24.0  False   \n",
       "2     0003_01     Europa     False  A/0/S  TRAPPIST-1e  58.0   True   \n",
       "3     0003_02     Europa     False  A/0/S  TRAPPIST-1e  33.0  False   \n",
       "4     0004_01      Earth     False  F/1/S  TRAPPIST-1e  16.0  False   \n",
       "\n",
       "   RoomService  FoodCourt  ShoppingMall     Spa  VRDeck               Name  \\\n",
       "0          0.0        0.0           0.0     0.0     0.0    Maham Ofracculy   \n",
       "1        109.0        9.0          25.0   549.0    44.0       Juanna Vines   \n",
       "2         43.0     3576.0           0.0  6715.0    49.0      Altark Susent   \n",
       "3          0.0     1283.0         371.0  3329.0   193.0       Solam Susent   \n",
       "4        303.0       70.0         151.0   565.0     2.0  Willy Santantines   \n",
       "\n",
       "   Transported  \n",
       "0        False  \n",
       "1         True  \n",
       "2        False  \n",
       "3        False  \n",
       "4         True  "
      ]
     },
     "metadata": {},
     "output_type": "display_data"
    },
    {
     "data": {
      "text/html": [
       "<div>\n",
       "<style scoped>\n",
       "    .dataframe tbody tr th:only-of-type {\n",
       "        vertical-align: middle;\n",
       "    }\n",
       "\n",
       "    .dataframe tbody tr th {\n",
       "        vertical-align: top;\n",
       "    }\n",
       "\n",
       "    .dataframe thead th {\n",
       "        text-align: right;\n",
       "    }\n",
       "</style>\n",
       "<table border=\"1\" class=\"dataframe\">\n",
       "  <thead>\n",
       "    <tr style=\"text-align: right;\">\n",
       "      <th></th>\n",
       "      <th>PassengerId</th>\n",
       "      <th>HomePlanet</th>\n",
       "      <th>CryoSleep</th>\n",
       "      <th>Cabin</th>\n",
       "      <th>Destination</th>\n",
       "      <th>Age</th>\n",
       "      <th>VIP</th>\n",
       "      <th>RoomService</th>\n",
       "      <th>FoodCourt</th>\n",
       "      <th>ShoppingMall</th>\n",
       "      <th>Spa</th>\n",
       "      <th>VRDeck</th>\n",
       "      <th>Name</th>\n",
       "    </tr>\n",
       "  </thead>\n",
       "  <tbody>\n",
       "    <tr>\n",
       "      <th>0</th>\n",
       "      <td>0013_01</td>\n",
       "      <td>Earth</td>\n",
       "      <td>True</td>\n",
       "      <td>G/3/S</td>\n",
       "      <td>TRAPPIST-1e</td>\n",
       "      <td>27.0</td>\n",
       "      <td>False</td>\n",
       "      <td>0.0</td>\n",
       "      <td>0.0</td>\n",
       "      <td>0.0</td>\n",
       "      <td>0.0</td>\n",
       "      <td>0.0</td>\n",
       "      <td>Nelly Carsoning</td>\n",
       "    </tr>\n",
       "    <tr>\n",
       "      <th>1</th>\n",
       "      <td>0018_01</td>\n",
       "      <td>Earth</td>\n",
       "      <td>False</td>\n",
       "      <td>F/4/S</td>\n",
       "      <td>TRAPPIST-1e</td>\n",
       "      <td>19.0</td>\n",
       "      <td>False</td>\n",
       "      <td>0.0</td>\n",
       "      <td>9.0</td>\n",
       "      <td>0.0</td>\n",
       "      <td>2823.0</td>\n",
       "      <td>0.0</td>\n",
       "      <td>Lerome Peckers</td>\n",
       "    </tr>\n",
       "    <tr>\n",
       "      <th>2</th>\n",
       "      <td>0019_01</td>\n",
       "      <td>Europa</td>\n",
       "      <td>True</td>\n",
       "      <td>C/0/S</td>\n",
       "      <td>55 Cancri e</td>\n",
       "      <td>31.0</td>\n",
       "      <td>False</td>\n",
       "      <td>0.0</td>\n",
       "      <td>0.0</td>\n",
       "      <td>0.0</td>\n",
       "      <td>0.0</td>\n",
       "      <td>0.0</td>\n",
       "      <td>Sabih Unhearfus</td>\n",
       "    </tr>\n",
       "    <tr>\n",
       "      <th>3</th>\n",
       "      <td>0021_01</td>\n",
       "      <td>Europa</td>\n",
       "      <td>False</td>\n",
       "      <td>C/1/S</td>\n",
       "      <td>TRAPPIST-1e</td>\n",
       "      <td>38.0</td>\n",
       "      <td>False</td>\n",
       "      <td>0.0</td>\n",
       "      <td>6652.0</td>\n",
       "      <td>0.0</td>\n",
       "      <td>181.0</td>\n",
       "      <td>585.0</td>\n",
       "      <td>Meratz Caltilter</td>\n",
       "    </tr>\n",
       "    <tr>\n",
       "      <th>4</th>\n",
       "      <td>0023_01</td>\n",
       "      <td>Earth</td>\n",
       "      <td>False</td>\n",
       "      <td>F/5/S</td>\n",
       "      <td>TRAPPIST-1e</td>\n",
       "      <td>20.0</td>\n",
       "      <td>False</td>\n",
       "      <td>10.0</td>\n",
       "      <td>0.0</td>\n",
       "      <td>635.0</td>\n",
       "      <td>0.0</td>\n",
       "      <td>0.0</td>\n",
       "      <td>Brence Harperez</td>\n",
       "    </tr>\n",
       "  </tbody>\n",
       "</table>\n",
       "</div>"
      ],
      "text/plain": [
       "  PassengerId HomePlanet CryoSleep  Cabin  Destination   Age    VIP  \\\n",
       "0     0013_01      Earth      True  G/3/S  TRAPPIST-1e  27.0  False   \n",
       "1     0018_01      Earth     False  F/4/S  TRAPPIST-1e  19.0  False   \n",
       "2     0019_01     Europa      True  C/0/S  55 Cancri e  31.0  False   \n",
       "3     0021_01     Europa     False  C/1/S  TRAPPIST-1e  38.0  False   \n",
       "4     0023_01      Earth     False  F/5/S  TRAPPIST-1e  20.0  False   \n",
       "\n",
       "   RoomService  FoodCourt  ShoppingMall     Spa  VRDeck              Name  \n",
       "0          0.0        0.0           0.0     0.0     0.0   Nelly Carsoning  \n",
       "1          0.0        9.0           0.0  2823.0     0.0    Lerome Peckers  \n",
       "2          0.0        0.0           0.0     0.0     0.0   Sabih Unhearfus  \n",
       "3          0.0     6652.0           0.0   181.0   585.0  Meratz Caltilter  \n",
       "4         10.0        0.0         635.0     0.0     0.0   Brence Harperez  "
      ]
     },
     "metadata": {},
     "output_type": "display_data"
    }
   ],
   "source": [
    "display(train.head())\n",
    "display(test.head())"
   ]
  },
  {
   "cell_type": "code",
   "execution_count": 4,
   "id": "712b24a9",
   "metadata": {
    "execution": {
     "iopub.execute_input": "2023-01-22T11:27:50.987219Z",
     "iopub.status.busy": "2023-01-22T11:27:50.986780Z",
     "iopub.status.idle": "2023-01-22T11:27:51.215838Z",
     "shell.execute_reply": "2023-01-22T11:27:51.214539Z"
    },
    "papermill": {
     "duration": 0.253315,
     "end_time": "2023-01-22T11:27:51.218523",
     "exception": false,
     "start_time": "2023-01-22T11:27:50.965208",
     "status": "completed"
    },
    "tags": []
   },
   "outputs": [
    {
     "data": {
      "text/plain": [
       "<AxesSubplot:xlabel='Transported', ylabel='count'>"
      ]
     },
     "execution_count": 4,
     "metadata": {},
     "output_type": "execute_result"
    },
    {
     "data": {
      "image/png": "[encoded data removed]",
      "text/plain": [
       "<Figure size 432x288 with 1 Axes>"
      ]
     },
     "metadata": {},
     "output_type": "display_data"
    }
   ],
   "source": [
    "enc =LabelEncoder()\n",
    "train['Transported'] = enc.fit_transform(train['Transported'])\n",
    "sns.countplot(data=train,x=train.Transported)"
   ]
  },
  {
   "cell_type": "markdown",
   "id": "2c2e33b2",
   "metadata": {
    "papermill": {
     "duration": 0.018925,
     "end_time": "2023-01-22T11:27:51.256812",
     "exception": false,
     "start_time": "2023-01-22T11:27:51.237887",
     "status": "completed"
    },
    "tags": []
   },
   "source": [
    "**There is almost equal number of positive(1:transported) and negative(2:not Trasported) cases here so model would have equal instaces of positive and negative to learn from.**"
   ]
  },
  {
   "cell_type": "code",
   "execution_count": 5,
   "id": "7100c7aa",
   "metadata": {
    "execution": {
     "iopub.execute_input": "2023-01-22T11:27:51.297918Z",
     "iopub.status.busy": "2023-01-22T11:27:51.296640Z",
     "iopub.status.idle": "2023-01-22T11:27:51.304382Z",
     "shell.execute_reply": "2023-01-22T11:27:51.302882Z"
    },
    "papermill": {
     "duration": 0.031203,
     "end_time": "2023-01-22T11:27:51.307200",
     "exception": false,
     "start_time": "2023-01-22T11:27:51.275997",
     "status": "completed"
    },
    "tags": []
   },
   "outputs": [
    {
     "name": "stdout",
     "output_type": "stream",
     "text": [
      "shape of train data: (8693, 14)\n",
      "shape of test data: (4277, 13)\n"
     ]
    }
   ],
   "source": [
    "#shape of train and test data\n",
    "print('shape of train data:', train.shape)\n",
    "print('shape of test data:', test.shape)"
   ]
  },
  {
   "cell_type": "code",
   "execution_count": 6,
   "id": "a902f7ad",
   "metadata": {
    "execution": {
     "iopub.execute_input": "2023-01-22T11:27:51.349325Z",
     "iopub.status.busy": "2023-01-22T11:27:51.348545Z",
     "iopub.status.idle": "2023-01-22T11:27:51.389528Z",
     "shell.execute_reply": "2023-01-22T11:27:51.388192Z"
    },
    "papermill": {
     "duration": 0.064902,
     "end_time": "2023-01-22T11:27:51.391927",
     "exception": false,
     "start_time": "2023-01-22T11:27:51.327025",
     "status": "completed"
    },
    "tags": []
   },
   "outputs": [
    {
     "name": "stdout",
     "output_type": "stream",
     "text": [
      "<class 'pandas.core.frame.DataFrame'>\n",
      "RangeIndex: 8693 entries, 0 to 8692\n",
      "Data columns (total 14 columns):\n",
      " #   Column        Non-Null Count  Dtype  \n",
      "---  ------        --------------  -----  \n",
      " 0   PassengerId   8693 non-null   object \n",
      " 1   HomePlanet    8492 non-null   object \n",
      " 2   CryoSleep     8476 non-null   object \n",
      " 3   Cabin         8494 non-null   object \n",
      " 4   Destination   8511 non-null   object \n",
      " 5   Age           8514 non-null   float64\n",
      " 6   VIP           8490 non-null   object \n",
      " 7   RoomService   8512 non-null   float64\n",
      " 8   FoodCourt     8510 non-null   float64\n",
      " 9   ShoppingMall  8485 non-null   float64\n",
      " 10  Spa           8510 non-null   float64\n",
      " 11  VRDeck        8505 non-null   float64\n",
      " 12  Name          8493 non-null   object \n",
      " 13  Transported   8693 non-null   int64  \n",
      "dtypes: float64(6), int64(1), object(7)\n",
      "memory usage: 950.9+ KB\n"
     ]
    },
    {
     "data": {
      "text/plain": [
       "None"
      ]
     },
     "metadata": {},
     "output_type": "display_data"
    },
    {
     "name": "stdout",
     "output_type": "stream",
     "text": [
      "====================================================================================================\n",
      "<class 'pandas.core.frame.DataFrame'>\n",
      "RangeIndex: 4277 entries, 0 to 4276\n",
      "Data columns (total 13 columns):\n",
      " #   Column        Non-Null Count  Dtype  \n",
      "---  ------        --------------  -----  \n",
      " 0   PassengerId   4277 non-null   object \n",
      " 1   HomePlanet    4190 non-null   object \n",
      " 2   CryoSleep     4184 non-null   object \n",
      " 3   Cabin         4177 non-null   object \n",
      " 4   Destination   4185 non-null   object \n",
      " 5   Age           4186 non-null   float64\n",
      " 6   VIP           4184 non-null   object \n",
      " 7   RoomService   4195 non-null   float64\n",
      " 8   FoodCourt     4171 non-null   float64\n",
      " 9   ShoppingMall  4179 non-null   float64\n",
      " 10  Spa           4176 non-null   float64\n",
      " 11  VRDeck        4197 non-null   float64\n",
      " 12  Name          4183 non-null   object \n",
      "dtypes: float64(6), object(7)\n",
      "memory usage: 434.5+ KB\n"
     ]
    },
    {
     "data": {
      "text/plain": [
       "None"
      ]
     },
     "metadata": {},
     "output_type": "display_data"
    }
   ],
   "source": [
    "display(train.info())\n",
    "print('='* 100)\n",
    "display(test.info())"
   ]
  },
  {
   "cell_type": "code",
   "execution_count": 7,
   "id": "9a38c013",
   "metadata": {
    "execution": {
     "iopub.execute_input": "2023-01-22T11:27:51.433871Z",
     "iopub.status.busy": "2023-01-22T11:27:51.432894Z",
     "iopub.status.idle": "2023-01-22T11:27:51.440928Z",
     "shell.execute_reply": "2023-01-22T11:27:51.439712Z"
    },
    "papermill": {
     "duration": 0.031916,
     "end_time": "2023-01-22T11:27:51.443594",
     "exception": false,
     "start_time": "2023-01-22T11:27:51.411678",
     "status": "completed"
    },
    "tags": []
   },
   "outputs": [
    {
     "name": "stdout",
     "output_type": "stream",
     "text": [
      "\n",
      "Numerical_features ['Age', 'RoomService', 'FoodCourt', 'ShoppingMall', 'Spa', 'VRDeck']\n",
      "\n",
      "Categorical_features ['PassengerId', 'HomePlanet', 'CryoSleep', 'Cabin', 'Destination', 'VIP', 'Name']\n"
     ]
    }
   ],
   "source": [
    "num_col = [a for a in train.columns if train[a].dtype in ['float64']]\n",
    "cat_col = [a for a in train.columns if train[a].dtype in ['object']]\n",
    "print('\\nNumerical_features',num_col)\n",
    "print('\\nCategorical_features',cat_col)"
   ]
  },
  {
   "cell_type": "code",
   "execution_count": 8,
   "id": "88e21004",
   "metadata": {
    "execution": {
     "iopub.execute_input": "2023-01-22T11:27:51.484993Z",
     "iopub.status.busy": "2023-01-22T11:27:51.484497Z",
     "iopub.status.idle": "2023-01-22T11:27:51.507932Z",
     "shell.execute_reply": "2023-01-22T11:27:51.506424Z"
    },
    "papermill": {
     "duration": 0.047002,
     "end_time": "2023-01-22T11:27:51.510311",
     "exception": false,
     "start_time": "2023-01-22T11:27:51.463309",
     "status": "completed"
    },
    "tags": []
   },
   "outputs": [
    {
     "data": {
      "text/html": [
       "<div>\n",
       "<style scoped>\n",
       "    .dataframe tbody tr th:only-of-type {\n",
       "        vertical-align: middle;\n",
       "    }\n",
       "\n",
       "    .dataframe tbody tr th {\n",
       "        vertical-align: top;\n",
       "    }\n",
       "\n",
       "    .dataframe thead th {\n",
       "        text-align: right;\n",
       "    }\n",
       "</style>\n",
       "<table border=\"1\" class=\"dataframe\">\n",
       "  <thead>\n",
       "    <tr style=\"text-align: right;\">\n",
       "      <th></th>\n",
       "      <th>PassengerId</th>\n",
       "      <th>HomePlanet</th>\n",
       "      <th>CryoSleep</th>\n",
       "      <th>Cabin</th>\n",
       "      <th>Destination</th>\n",
       "      <th>Age</th>\n",
       "      <th>VIP</th>\n",
       "      <th>RoomService</th>\n",
       "      <th>FoodCourt</th>\n",
       "      <th>ShoppingMall</th>\n",
       "      <th>Spa</th>\n",
       "      <th>VRDeck</th>\n",
       "      <th>Name</th>\n",
       "      <th>Transported</th>\n",
       "    </tr>\n",
       "  </thead>\n",
       "  <tbody>\n",
       "    <tr>\n",
       "      <th>0</th>\n",
       "      <td>0001_01</td>\n",
       "      <td>Europa</td>\n",
       "      <td>False</td>\n",
       "      <td>B/0/P</td>\n",
       "      <td>TRAPPIST-1e</td>\n",
       "      <td>39.0</td>\n",
       "      <td>False</td>\n",
       "      <td>0.0</td>\n",
       "      <td>0.0</td>\n",
       "      <td>0.0</td>\n",
       "      <td>0.0</td>\n",
       "      <td>0.0</td>\n",
       "      <td>Maham Ofracculy</td>\n",
       "      <td>0</td>\n",
       "    </tr>\n",
       "    <tr>\n",
       "      <th>1</th>\n",
       "      <td>0002_01</td>\n",
       "      <td>Earth</td>\n",
       "      <td>False</td>\n",
       "      <td>F/0/S</td>\n",
       "      <td>TRAPPIST-1e</td>\n",
       "      <td>24.0</td>\n",
       "      <td>False</td>\n",
       "      <td>109.0</td>\n",
       "      <td>9.0</td>\n",
       "      <td>25.0</td>\n",
       "      <td>549.0</td>\n",
       "      <td>44.0</td>\n",
       "      <td>Juanna Vines</td>\n",
       "      <td>1</td>\n",
       "    </tr>\n",
       "    <tr>\n",
       "      <th>2</th>\n",
       "      <td>0003_01</td>\n",
       "      <td>Europa</td>\n",
       "      <td>False</td>\n",
       "      <td>A/0/S</td>\n",
       "      <td>TRAPPIST-1e</td>\n",
       "      <td>58.0</td>\n",
       "      <td>True</td>\n",
       "      <td>43.0</td>\n",
       "      <td>3576.0</td>\n",
       "      <td>0.0</td>\n",
       "      <td>6715.0</td>\n",
       "      <td>49.0</td>\n",
       "      <td>Altark Susent</td>\n",
       "      <td>0</td>\n",
       "    </tr>\n",
       "    <tr>\n",
       "      <th>3</th>\n",
       "      <td>0003_02</td>\n",
       "      <td>Europa</td>\n",
       "      <td>False</td>\n",
       "      <td>A/0/S</td>\n",
       "      <td>TRAPPIST-1e</td>\n",
       "      <td>33.0</td>\n",
       "      <td>False</td>\n",
       "      <td>0.0</td>\n",
       "      <td>1283.0</td>\n",
       "      <td>371.0</td>\n",
       "      <td>3329.0</td>\n",
       "      <td>193.0</td>\n",
       "      <td>Solam Susent</td>\n",
       "      <td>0</td>\n",
       "    </tr>\n",
       "    <tr>\n",
       "      <th>4</th>\n",
       "      <td>0004_01</td>\n",
       "      <td>Earth</td>\n",
       "      <td>False</td>\n",
       "      <td>F/1/S</td>\n",
       "      <td>TRAPPIST-1e</td>\n",
       "      <td>16.0</td>\n",
       "      <td>False</td>\n",
       "      <td>303.0</td>\n",
       "      <td>70.0</td>\n",
       "      <td>151.0</td>\n",
       "      <td>565.0</td>\n",
       "      <td>2.0</td>\n",
       "      <td>Willy Santantines</td>\n",
       "      <td>1</td>\n",
       "    </tr>\n",
       "  </tbody>\n",
       "</table>\n",
       "</div>"
      ],
      "text/plain": [
       "  PassengerId HomePlanet CryoSleep  Cabin  Destination   Age    VIP  \\\n",
       "0     0001_01     Europa     False  B/0/P  TRAPPIST-1e  39.0  False   \n",
       "1     0002_01      Earth     False  F/0/S  TRAPPIST-1e  24.0  False   \n",
       "2     0003_01     Europa     False  A/0/S  TRAPPIST-1e  58.0   True   \n",
       "3     0003_02     Europa     False  A/0/S  TRAPPIST-1e  33.0  False   \n",
       "4     0004_01      Earth     False  F/1/S  TRAPPIST-1e  16.0  False   \n",
       "\n",
       "   RoomService  FoodCourt  ShoppingMall     Spa  VRDeck               Name  \\\n",
       "0          0.0        0.0           0.0     0.0     0.0    Maham Ofracculy   \n",
       "1        109.0        9.0          25.0   549.0    44.0       Juanna Vines   \n",
       "2         43.0     3576.0           0.0  6715.0    49.0      Altark Susent   \n",
       "3          0.0     1283.0         371.0  3329.0   193.0       Solam Susent   \n",
       "4        303.0       70.0         151.0   565.0     2.0  Willy Santantines   \n",
       "\n",
       "   Transported  \n",
       "0            0  \n",
       "1            1  \n",
       "2            0  \n",
       "3            0  \n",
       "4            1  "
      ]
     },
     "execution_count": 8,
     "metadata": {},
     "output_type": "execute_result"
    }
   ],
   "source": [
    "train.head()"
   ]
  },
  {
   "cell_type": "code",
   "execution_count": 9,
   "id": "39703599",
   "metadata": {
    "execution": {
     "iopub.execute_input": "2023-01-22T11:27:51.552772Z",
     "iopub.status.busy": "2023-01-22T11:27:51.551802Z",
     "iopub.status.idle": "2023-01-22T11:27:51.557300Z",
     "shell.execute_reply": "2023-01-22T11:27:51.556311Z"
    },
    "papermill": {
     "duration": 0.028975,
     "end_time": "2023-01-22T11:27:51.559397",
     "exception": false,
     "start_time": "2023-01-22T11:27:51.530422",
     "status": "completed"
    },
    "tags": []
   },
   "outputs": [],
   "source": [
    "#target \n",
    "y = train['Transported']"
   ]
  },
  {
   "cell_type": "code",
   "execution_count": 10,
   "id": "291c4d54",
   "metadata": {
    "execution": {
     "iopub.execute_input": "2023-01-22T11:27:51.602143Z",
     "iopub.status.busy": "2023-01-22T11:27:51.600798Z",
     "iopub.status.idle": "2023-01-22T11:27:51.622945Z",
     "shell.execute_reply": "2023-01-22T11:27:51.621995Z"
    },
    "papermill": {
     "duration": 0.045734,
     "end_time": "2023-01-22T11:27:51.625085",
     "exception": false,
     "start_time": "2023-01-22T11:27:51.579351",
     "status": "completed"
    },
    "tags": []
   },
   "outputs": [
    {
     "data": {
      "text/html": [
       "<div>\n",
       "<style scoped>\n",
       "    .dataframe tbody tr th:only-of-type {\n",
       "        vertical-align: middle;\n",
       "    }\n",
       "\n",
       "    .dataframe tbody tr th {\n",
       "        vertical-align: top;\n",
       "    }\n",
       "\n",
       "    .dataframe thead th {\n",
       "        text-align: right;\n",
       "    }\n",
       "</style>\n",
       "<table border=\"1\" class=\"dataframe\">\n",
       "  <thead>\n",
       "    <tr style=\"text-align: right;\">\n",
       "      <th></th>\n",
       "      <th>PassengerId</th>\n",
       "      <th>HomePlanet</th>\n",
       "      <th>CryoSleep</th>\n",
       "      <th>Cabin</th>\n",
       "      <th>Destination</th>\n",
       "      <th>Age</th>\n",
       "      <th>VIP</th>\n",
       "      <th>RoomService</th>\n",
       "      <th>FoodCourt</th>\n",
       "      <th>ShoppingMall</th>\n",
       "      <th>Spa</th>\n",
       "      <th>VRDeck</th>\n",
       "      <th>Name</th>\n",
       "      <th>Transported</th>\n",
       "    </tr>\n",
       "  </thead>\n",
       "  <tbody>\n",
       "    <tr>\n",
       "      <th>0</th>\n",
       "      <td>0001_01</td>\n",
       "      <td>Europa</td>\n",
       "      <td>False</td>\n",
       "      <td>B/0/P</td>\n",
       "      <td>TRAPPIST-1e</td>\n",
       "      <td>39.0</td>\n",
       "      <td>False</td>\n",
       "      <td>0.0</td>\n",
       "      <td>0.0</td>\n",
       "      <td>0.0</td>\n",
       "      <td>0.0</td>\n",
       "      <td>0.0</td>\n",
       "      <td>Maham Ofracculy</td>\n",
       "      <td>0</td>\n",
       "    </tr>\n",
       "    <tr>\n",
       "      <th>1</th>\n",
       "      <td>0002_01</td>\n",
       "      <td>Earth</td>\n",
       "      <td>False</td>\n",
       "      <td>F/0/S</td>\n",
       "      <td>TRAPPIST-1e</td>\n",
       "      <td>24.0</td>\n",
       "      <td>False</td>\n",
       "      <td>109.0</td>\n",
       "      <td>9.0</td>\n",
       "      <td>25.0</td>\n",
       "      <td>549.0</td>\n",
       "      <td>44.0</td>\n",
       "      <td>Juanna Vines</td>\n",
       "      <td>1</td>\n",
       "    </tr>\n",
       "    <tr>\n",
       "      <th>2</th>\n",
       "      <td>0003_01</td>\n",
       "      <td>Europa</td>\n",
       "      <td>False</td>\n",
       "      <td>A/0/S</td>\n",
       "      <td>TRAPPIST-1e</td>\n",
       "      <td>58.0</td>\n",
       "      <td>True</td>\n",
       "      <td>43.0</td>\n",
       "      <td>3576.0</td>\n",
       "      <td>0.0</td>\n",
       "      <td>6715.0</td>\n",
       "      <td>49.0</td>\n",
       "      <td>Altark Susent</td>\n",
       "      <td>0</td>\n",
       "    </tr>\n",
       "    <tr>\n",
       "      <th>3</th>\n",
       "      <td>0003_02</td>\n",
       "      <td>Europa</td>\n",
       "      <td>False</td>\n",
       "      <td>A/0/S</td>\n",
       "      <td>TRAPPIST-1e</td>\n",
       "      <td>33.0</td>\n",
       "      <td>False</td>\n",
       "      <td>0.0</td>\n",
       "      <td>1283.0</td>\n",
       "      <td>371.0</td>\n",
       "      <td>3329.0</td>\n",
       "      <td>193.0</td>\n",
       "      <td>Solam Susent</td>\n",
       "      <td>0</td>\n",
       "    </tr>\n",
       "    <tr>\n",
       "      <th>4</th>\n",
       "      <td>0004_01</td>\n",
       "      <td>Earth</td>\n",
       "      <td>False</td>\n",
       "      <td>F/1/S</td>\n",
       "      <td>TRAPPIST-1e</td>\n",
       "      <td>16.0</td>\n",
       "      <td>False</td>\n",
       "      <td>303.0</td>\n",
       "      <td>70.0</td>\n",
       "      <td>151.0</td>\n",
       "      <td>565.0</td>\n",
       "      <td>2.0</td>\n",
       "      <td>Willy Santantines</td>\n",
       "      <td>1</td>\n",
       "    </tr>\n",
       "  </tbody>\n",
       "</table>\n",
       "</div>"
      ],
      "text/plain": [
       "  PassengerId HomePlanet CryoSleep  Cabin  Destination   Age    VIP  \\\n",
       "0     0001_01     Europa     False  B/0/P  TRAPPIST-1e  39.0  False   \n",
       "1     0002_01      Earth     False  F/0/S  TRAPPIST-1e  24.0  False   \n",
       "2     0003_01     Europa     False  A/0/S  TRAPPIST-1e  58.0   True   \n",
       "3     0003_02     Europa     False  A/0/S  TRAPPIST-1e  33.0  False   \n",
       "4     0004_01      Earth     False  F/1/S  TRAPPIST-1e  16.0  False   \n",
       "\n",
       "   RoomService  FoodCourt  ShoppingMall     Spa  VRDeck               Name  \\\n",
       "0          0.0        0.0           0.0     0.0     0.0    Maham Ofracculy   \n",
       "1        109.0        9.0          25.0   549.0    44.0       Juanna Vines   \n",
       "2         43.0     3576.0           0.0  6715.0    49.0      Altark Susent   \n",
       "3          0.0     1283.0         371.0  3329.0   193.0       Solam Susent   \n",
       "4        303.0       70.0         151.0   565.0     2.0  Willy Santantines   \n",
       "\n",
       "   Transported  \n",
       "0            0  \n",
       "1            1  \n",
       "2            0  \n",
       "3            0  \n",
       "4            1  "
      ]
     },
     "execution_count": 10,
     "metadata": {},
     "output_type": "execute_result"
    }
   ],
   "source": [
    "train.head()"
   ]
  },
  {
   "cell_type": "code",
   "execution_count": 11,
   "id": "cc3f38d5",
   "metadata": {
    "execution": {
     "iopub.execute_input": "2023-01-22T11:27:51.668249Z",
     "iopub.status.busy": "2023-01-22T11:27:51.667244Z",
     "iopub.status.idle": "2023-01-22T11:27:51.690636Z",
     "shell.execute_reply": "2023-01-22T11:27:51.689298Z"
    },
    "papermill": {
     "duration": 0.047329,
     "end_time": "2023-01-22T11:27:51.692948",
     "exception": false,
     "start_time": "2023-01-22T11:27:51.645619",
     "status": "completed"
    },
    "tags": []
   },
   "outputs": [
    {
     "data": {
      "text/plain": [
       "CryoSleep       2.50\n",
       "ShoppingMall    2.39\n",
       "VIP             2.34\n",
       "HomePlanet      2.31\n",
       "Name            2.30\n",
       "Cabin           2.29\n",
       "VRDeck          2.16\n",
       "FoodCourt       2.11\n",
       "Spa             2.11\n",
       "Destination     2.09\n",
       "RoomService     2.08\n",
       "Age             2.06\n",
       "PassengerId     0.00\n",
       "Transported     0.00\n",
       "dtype: float64"
      ]
     },
     "metadata": {},
     "output_type": "display_data"
    },
    {
     "name": "stdout",
     "output_type": "stream",
     "text": [
      "====================================================================================================\n"
     ]
    },
    {
     "data": {
      "text/plain": [
       "FoodCourt       2.48\n",
       "Spa             2.36\n",
       "Cabin           2.34\n",
       "ShoppingMall    2.29\n",
       "Name            2.20\n",
       "CryoSleep       2.17\n",
       "VIP             2.17\n",
       "Destination     2.15\n",
       "Age             2.13\n",
       "HomePlanet      2.03\n",
       "RoomService     1.92\n",
       "VRDeck          1.87\n",
       "PassengerId     0.00\n",
       "dtype: float64"
      ]
     },
     "metadata": {},
     "output_type": "display_data"
    }
   ],
   "source": [
    "# % of null value per column in train and test data\n",
    "display(round(train.isnull().sum().sort_values(ascending=False)/train.shape[0]*100,2))\n",
    "print('='* 100)\n",
    "display(round(test.isnull().sum().sort_values(ascending=False)/test.shape[0]*100,2))"
   ]
  },
  {
   "cell_type": "markdown",
   "id": "67dae881",
   "metadata": {
    "papermill": {
     "duration": 0.020029,
     "end_time": "2023-01-22T11:27:51.733472",
     "exception": false,
     "start_time": "2023-01-22T11:27:51.713443",
     "status": "completed"
    },
    "tags": []
   },
   "source": [
    "# **Preprocessing**"
   ]
  },
  {
   "cell_type": "code",
   "execution_count": 12,
   "id": "27cf595f",
   "metadata": {
    "execution": {
     "iopub.execute_input": "2023-01-22T11:27:51.776424Z",
     "iopub.status.busy": "2023-01-22T11:27:51.775938Z",
     "iopub.status.idle": "2023-01-22T11:27:51.871351Z",
     "shell.execute_reply": "2023-01-22T11:27:51.870280Z"
    },
    "papermill": {
     "duration": 0.12003,
     "end_time": "2023-01-22T11:27:51.874069",
     "exception": false,
     "start_time": "2023-01-22T11:27:51.754039",
     "status": "completed"
    },
    "tags": []
   },
   "outputs": [],
   "source": [
    "def fill_values(df):\n",
    "    df['ShoppingMall'] = SimpleImputer(strategy='constant',fill_value=0).fit_transform(df[['ShoppingMall']])\n",
    "    df['RoomService'] = SimpleImputer(strategy='constant',fill_value=0).fit_transform(df[['RoomService']])\n",
    "    df['FoodCourt'] = SimpleImputer(strategy='constant',fill_value=0).fit_transform(df[['FoodCourt']])\n",
    "    df['Spa'] = SimpleImputer(strategy='constant',fill_value=0).fit_transform(df[['Spa']])\n",
    "    df['VRDeck'] = SimpleImputer(strategy='constant',fill_value=0).fit_transform(df[['VRDeck']])\n",
    "    df['Age'] = SimpleImputer(missing_values=np.nan,strategy='mean').fit_transform(df[['Age']])\n",
    "    df['HomePlanet'] = SimpleImputer(strategy='most_frequent').fit_transform(df[['HomePlanet']])\n",
    "    df['CryoSleep'] = SimpleImputer(strategy='most_frequent').fit_transform(df[['CryoSleep']])\n",
    "    df['Cabin'] = SimpleImputer(strategy='most_frequent').fit_transform(df[['Cabin']])\n",
    "    df['Destination'] = SimpleImputer(strategy='most_frequent').fit_transform(df[['Destination']])\n",
    "    df['VIP'] = SimpleImputer(strategy='most_frequent').fit_transform(df[['VIP']])\n",
    "\n",
    "fill_values(train)\n",
    "fill_values(test)"
   ]
  },
  {
   "cell_type": "code",
   "execution_count": 13,
   "id": "8bb7c4f1",
   "metadata": {
    "execution": {
     "iopub.execute_input": "2023-01-22T11:27:51.918864Z",
     "iopub.status.busy": "2023-01-22T11:27:51.918391Z",
     "iopub.status.idle": "2023-01-22T11:27:51.946873Z",
     "shell.execute_reply": "2023-01-22T11:27:51.944943Z"
    },
    "papermill": {
     "duration": 0.053559,
     "end_time": "2023-01-22T11:27:51.949438",
     "exception": false,
     "start_time": "2023-01-22T11:27:51.895879",
     "status": "completed"
    },
    "tags": []
   },
   "outputs": [
    {
     "name": "stdout",
     "output_type": "stream",
     "text": [
      "<class 'pandas.core.frame.DataFrame'>\n",
      "RangeIndex: 8693 entries, 0 to 8692\n",
      "Data columns (total 14 columns):\n",
      " #   Column        Non-Null Count  Dtype  \n",
      "---  ------        --------------  -----  \n",
      " 0   PassengerId   8693 non-null   object \n",
      " 1   HomePlanet    8693 non-null   object \n",
      " 2   CryoSleep     8693 non-null   object \n",
      " 3   Cabin         8693 non-null   object \n",
      " 4   Destination   8693 non-null   object \n",
      " 5   Age           8693 non-null   float64\n",
      " 6   VIP           8693 non-null   object \n",
      " 7   RoomService   8693 non-null   float64\n",
      " 8   FoodCourt     8693 non-null   float64\n",
      " 9   ShoppingMall  8693 non-null   float64\n",
      " 10  Spa           8693 non-null   float64\n",
      " 11  VRDeck        8693 non-null   float64\n",
      " 12  Name          8493 non-null   object \n",
      " 13  Transported   8693 non-null   int64  \n",
      "dtypes: float64(6), int64(1), object(7)\n",
      "memory usage: 950.9+ KB\n",
      "None\n",
      "<class 'pandas.core.frame.DataFrame'>\n",
      "RangeIndex: 4277 entries, 0 to 4276\n",
      "Data columns (total 13 columns):\n",
      " #   Column        Non-Null Count  Dtype  \n",
      "---  ------        --------------  -----  \n",
      " 0   PassengerId   4277 non-null   object \n",
      " 1   HomePlanet    4277 non-null   object \n",
      " 2   CryoSleep     4277 non-null   object \n",
      " 3   Cabin         4277 non-null   object \n",
      " 4   Destination   4277 non-null   object \n",
      " 5   Age           4277 non-null   float64\n",
      " 6   VIP           4277 non-null   object \n",
      " 7   RoomService   4277 non-null   float64\n",
      " 8   FoodCourt     4277 non-null   float64\n",
      " 9   ShoppingMall  4277 non-null   float64\n",
      " 10  Spa           4277 non-null   float64\n",
      " 11  VRDeck        4277 non-null   float64\n",
      " 12  Name          4183 non-null   object \n",
      "dtypes: float64(6), object(7)\n",
      "memory usage: 434.5+ KB\n",
      "None\n"
     ]
    }
   ],
   "source": [
    "print(train.info())\n",
    "print(test.info())"
   ]
  },
  {
   "cell_type": "markdown",
   "id": "708a22fb",
   "metadata": {
    "papermill": {
     "duration": 0.020771,
     "end_time": "2023-01-22T11:27:51.991081",
     "exception": false,
     "start_time": "2023-01-22T11:27:51.970310",
     "status": "completed"
    },
    "tags": []
   },
   "source": [
    "# **Feature Engg.**"
   ]
  },
  {
   "cell_type": "code",
   "execution_count": 14,
   "id": "07830f40",
   "metadata": {
    "execution": {
     "iopub.execute_input": "2023-01-22T11:27:52.035191Z",
     "iopub.status.busy": "2023-01-22T11:27:52.034735Z",
     "iopub.status.idle": "2023-01-22T11:27:52.280688Z",
     "shell.execute_reply": "2023-01-22T11:27:52.279622Z"
    },
    "papermill": {
     "duration": 0.271499,
     "end_time": "2023-01-22T11:27:52.283416",
     "exception": false,
     "start_time": "2023-01-22T11:27:52.011917",
     "status": "completed"
    },
    "tags": []
   },
   "outputs": [],
   "source": [
    "train[['Group_No','No_in_group']] = train['PassengerId'].str.split(\"_\",expand=True)\n",
    "\n",
    "test[['Group_No','No_in_group']] = test['PassengerId'].str.split(\"_\",expand=True)"
   ]
  },
  {
   "cell_type": "code",
   "execution_count": 15,
   "id": "a4452f15",
   "metadata": {
    "execution": {
     "iopub.execute_input": "2023-01-22T11:27:52.326802Z",
     "iopub.status.busy": "2023-01-22T11:27:52.326339Z",
     "iopub.status.idle": "2023-01-22T11:27:52.336048Z",
     "shell.execute_reply": "2023-01-22T11:27:52.335011Z"
    },
    "papermill": {
     "duration": 0.034328,
     "end_time": "2023-01-22T11:27:52.338399",
     "exception": false,
     "start_time": "2023-01-22T11:27:52.304071",
     "status": "completed"
    },
    "tags": []
   },
   "outputs": [],
   "source": [
    "#making a new feature with the sum of ShoppingMall, Spa, VRDeck, FoodCourt, RoomService\n",
    "train['total_exp'] = train['ShoppingMall']+train['Spa']+train['VRDeck']+train['FoodCourt']+train['RoomService']\n",
    "\n",
    "test['total_exp'] = test['ShoppingMall']+test['Spa']+test['VRDeck']+test['FoodCourt']+test['RoomService']"
   ]
  },
  {
   "cell_type": "code",
   "execution_count": 16,
   "id": "ae4fc5b5",
   "metadata": {
    "execution": {
     "iopub.execute_input": "2023-01-22T11:27:52.382676Z",
     "iopub.status.busy": "2023-01-22T11:27:52.382182Z",
     "iopub.status.idle": "2023-01-22T11:27:52.392077Z",
     "shell.execute_reply": "2023-01-22T11:27:52.390967Z"
    },
    "papermill": {
     "duration": 0.034703,
     "end_time": "2023-01-22T11:27:52.394432",
     "exception": false,
     "start_time": "2023-01-22T11:27:52.359729",
     "status": "completed"
    },
    "tags": []
   },
   "outputs": [],
   "source": [
    "train['B_needs'] = train['RoomService']+train['FoodCourt']\n",
    "train['L_needs'] = train['ShoppingMall']+train['Spa']+train['VRDeck']\n",
    "\n",
    "test['B_needs'] = test['RoomService']+test['FoodCourt']\n",
    "test['L_needs'] = test['ShoppingMall']+test['Spa']+test['VRDeck']\n"
   ]
  },
  {
   "cell_type": "code",
   "execution_count": 17,
   "id": "9f251f89",
   "metadata": {
    "execution": {
     "iopub.execute_input": "2023-01-22T11:27:52.438181Z",
     "iopub.status.busy": "2023-01-22T11:27:52.437703Z",
     "iopub.status.idle": "2023-01-22T11:27:52.465137Z",
     "shell.execute_reply": "2023-01-22T11:27:52.464010Z"
    },
    "papermill": {
     "duration": 0.052289,
     "end_time": "2023-01-22T11:27:52.467596",
     "exception": false,
     "start_time": "2023-01-22T11:27:52.415307",
     "status": "completed"
    },
    "tags": []
   },
   "outputs": [
    {
     "data": {
      "text/html": [
       "<div>\n",
       "<style scoped>\n",
       "    .dataframe tbody tr th:only-of-type {\n",
       "        vertical-align: middle;\n",
       "    }\n",
       "\n",
       "    .dataframe tbody tr th {\n",
       "        vertical-align: top;\n",
       "    }\n",
       "\n",
       "    .dataframe thead th {\n",
       "        text-align: right;\n",
       "    }\n",
       "</style>\n",
       "<table border=\"1\" class=\"dataframe\">\n",
       "  <thead>\n",
       "    <tr style=\"text-align: right;\">\n",
       "      <th></th>\n",
       "      <th>PassengerId</th>\n",
       "      <th>HomePlanet</th>\n",
       "      <th>CryoSleep</th>\n",
       "      <th>Cabin</th>\n",
       "      <th>Destination</th>\n",
       "      <th>Age</th>\n",
       "      <th>VIP</th>\n",
       "      <th>RoomService</th>\n",
       "      <th>FoodCourt</th>\n",
       "      <th>ShoppingMall</th>\n",
       "      <th>Spa</th>\n",
       "      <th>VRDeck</th>\n",
       "      <th>Name</th>\n",
       "      <th>Transported</th>\n",
       "      <th>Group_No</th>\n",
       "      <th>No_in_group</th>\n",
       "      <th>total_exp</th>\n",
       "      <th>B_needs</th>\n",
       "      <th>L_needs</th>\n",
       "    </tr>\n",
       "  </thead>\n",
       "  <tbody>\n",
       "    <tr>\n",
       "      <th>0</th>\n",
       "      <td>0001_01</td>\n",
       "      <td>Europa</td>\n",
       "      <td>False</td>\n",
       "      <td>B/0/P</td>\n",
       "      <td>TRAPPIST-1e</td>\n",
       "      <td>39.0</td>\n",
       "      <td>False</td>\n",
       "      <td>0.0</td>\n",
       "      <td>0.0</td>\n",
       "      <td>0.0</td>\n",
       "      <td>0.0</td>\n",
       "      <td>0.0</td>\n",
       "      <td>Maham Ofracculy</td>\n",
       "      <td>0</td>\n",
       "      <td>0001</td>\n",
       "      <td>01</td>\n",
       "      <td>0.0</td>\n",
       "      <td>0.0</td>\n",
       "      <td>0.0</td>\n",
       "    </tr>\n",
       "    <tr>\n",
       "      <th>1</th>\n",
       "      <td>0002_01</td>\n",
       "      <td>Earth</td>\n",
       "      <td>False</td>\n",
       "      <td>F/0/S</td>\n",
       "      <td>TRAPPIST-1e</td>\n",
       "      <td>24.0</td>\n",
       "      <td>False</td>\n",
       "      <td>109.0</td>\n",
       "      <td>9.0</td>\n",
       "      <td>25.0</td>\n",
       "      <td>549.0</td>\n",
       "      <td>44.0</td>\n",
       "      <td>Juanna Vines</td>\n",
       "      <td>1</td>\n",
       "      <td>0002</td>\n",
       "      <td>01</td>\n",
       "      <td>736.0</td>\n",
       "      <td>118.0</td>\n",
       "      <td>618.0</td>\n",
       "    </tr>\n",
       "    <tr>\n",
       "      <th>2</th>\n",
       "      <td>0003_01</td>\n",
       "      <td>Europa</td>\n",
       "      <td>False</td>\n",
       "      <td>A/0/S</td>\n",
       "      <td>TRAPPIST-1e</td>\n",
       "      <td>58.0</td>\n",
       "      <td>True</td>\n",
       "      <td>43.0</td>\n",
       "      <td>3576.0</td>\n",
       "      <td>0.0</td>\n",
       "      <td>6715.0</td>\n",
       "      <td>49.0</td>\n",
       "      <td>Altark Susent</td>\n",
       "      <td>0</td>\n",
       "      <td>0003</td>\n",
       "      <td>01</td>\n",
       "      <td>10383.0</td>\n",
       "      <td>3619.0</td>\n",
       "      <td>6764.0</td>\n",
       "    </tr>\n",
       "    <tr>\n",
       "      <th>3</th>\n",
       "      <td>0003_02</td>\n",
       "      <td>Europa</td>\n",
       "      <td>False</td>\n",
       "      <td>A/0/S</td>\n",
       "      <td>TRAPPIST-1e</td>\n",
       "      <td>33.0</td>\n",
       "      <td>False</td>\n",
       "      <td>0.0</td>\n",
       "      <td>1283.0</td>\n",
       "      <td>371.0</td>\n",
       "      <td>3329.0</td>\n",
       "      <td>193.0</td>\n",
       "      <td>Solam Susent</td>\n",
       "      <td>0</td>\n",
       "      <td>0003</td>\n",
       "      <td>02</td>\n",
       "      <td>5176.0</td>\n",
       "      <td>1283.0</td>\n",
       "      <td>3893.0</td>\n",
       "    </tr>\n",
       "    <tr>\n",
       "      <th>4</th>\n",
       "      <td>0004_01</td>\n",
       "      <td>Earth</td>\n",
       "      <td>False</td>\n",
       "      <td>F/1/S</td>\n",
       "      <td>TRAPPIST-1e</td>\n",
       "      <td>16.0</td>\n",
       "      <td>False</td>\n",
       "      <td>303.0</td>\n",
       "      <td>70.0</td>\n",
       "      <td>151.0</td>\n",
       "      <td>565.0</td>\n",
       "      <td>2.0</td>\n",
       "      <td>Willy Santantines</td>\n",
       "      <td>1</td>\n",
       "      <td>0004</td>\n",
       "      <td>01</td>\n",
       "      <td>1091.0</td>\n",
       "      <td>373.0</td>\n",
       "      <td>718.0</td>\n",
       "    </tr>\n",
       "  </tbody>\n",
       "</table>\n",
       "</div>"
      ],
      "text/plain": [
       "  PassengerId HomePlanet CryoSleep  Cabin  Destination   Age    VIP  \\\n",
       "0     0001_01     Europa     False  B/0/P  TRAPPIST-1e  39.0  False   \n",
       "1     0002_01      Earth     False  F/0/S  TRAPPIST-1e  24.0  False   \n",
       "2     0003_01     Europa     False  A/0/S  TRAPPIST-1e  58.0   True   \n",
       "3     0003_02     Europa     False  A/0/S  TRAPPIST-1e  33.0  False   \n",
       "4     0004_01      Earth     False  F/1/S  TRAPPIST-1e  16.0  False   \n",
       "\n",
       "   RoomService  FoodCourt  ShoppingMall     Spa  VRDeck               Name  \\\n",
       "0          0.0        0.0           0.0     0.0     0.0    Maham Ofracculy   \n",
       "1        109.0        9.0          25.0   549.0    44.0       Juanna Vines   \n",
       "2         43.0     3576.0           0.0  6715.0    49.0      Altark Susent   \n",
       "3          0.0     1283.0         371.0  3329.0   193.0       Solam Susent   \n",
       "4        303.0       70.0         151.0   565.0     2.0  Willy Santantines   \n",
       "\n",
       "   Transported Group_No No_in_group  total_exp  B_needs  L_needs  \n",
       "0            0     0001          01        0.0      0.0      0.0  \n",
       "1            1     0002          01      736.0    118.0    618.0  \n",
       "2            0     0003          01    10383.0   3619.0   6764.0  \n",
       "3            0     0003          02     5176.0   1283.0   3893.0  \n",
       "4            1     0004          01     1091.0    373.0    718.0  "
      ]
     },
     "execution_count": 17,
     "metadata": {},
     "output_type": "execute_result"
    }
   ],
   "source": [
    "train.head()"
   ]
  },
  {
   "cell_type": "code",
   "execution_count": 18,
   "id": "c8a7f199",
   "metadata": {
    "execution": {
     "iopub.execute_input": "2023-01-22T11:27:52.512061Z",
     "iopub.status.busy": "2023-01-22T11:27:52.511584Z",
     "iopub.status.idle": "2023-01-22T11:27:52.801947Z",
     "shell.execute_reply": "2023-01-22T11:27:52.800785Z"
    },
    "papermill": {
     "duration": 0.315149,
     "end_time": "2023-01-22T11:27:52.804375",
     "exception": false,
     "start_time": "2023-01-22T11:27:52.489226",
     "status": "completed"
    },
    "tags": []
   },
   "outputs": [
    {
     "data": {
      "text/plain": [
       "<AxesSubplot:xlabel='Transported', ylabel='B_needs'>"
      ]
     },
     "execution_count": 18,
     "metadata": {},
     "output_type": "execute_result"
    },
    {
     "data": {
      "image/png": "[encoded data removed]",
      "text/plain": [
       "<Figure size 432x288 with 1 Axes>"
      ]
     },
     "metadata": {},
     "output_type": "display_data"
    }
   ],
   "source": [
    "sns.stripplot(data=train,x='Transported',y='B_needs')"
   ]
  },
  {
   "cell_type": "code",
   "execution_count": 19,
   "id": "7a19d755",
   "metadata": {
    "execution": {
     "iopub.execute_input": "2023-01-22T11:27:52.850335Z",
     "iopub.status.busy": "2023-01-22T11:27:52.849128Z",
     "iopub.status.idle": "2023-01-22T11:27:53.139450Z",
     "shell.execute_reply": "2023-01-22T11:27:53.138266Z"
    },
    "papermill": {
     "duration": 0.315783,
     "end_time": "2023-01-22T11:27:53.141870",
     "exception": false,
     "start_time": "2023-01-22T11:27:52.826087",
     "status": "completed"
    },
    "tags": []
   },
   "outputs": [
    {
     "data": {
      "text/plain": [
       "<AxesSubplot:xlabel='Transported', ylabel='L_needs'>"
      ]
     },
     "execution_count": 19,
     "metadata": {},
     "output_type": "execute_result"
    },
    {
     "data": {
      "image/png": "[encoded data removed]",
      "text/plain": [
       "<Figure size 432x288 with 1 Axes>"
      ]
     },
     "metadata": {},
     "output_type": "display_data"
    }
   ],
   "source": [
    "sns.stripplot(data=train,x='Transported',y='L_needs')"
   ]
  },
  {
   "cell_type": "code",
   "execution_count": 20,
   "id": "09c20ef3",
   "metadata": {
    "execution": {
     "iopub.execute_input": "2023-01-22T11:27:53.188613Z",
     "iopub.status.busy": "2023-01-22T11:27:53.188101Z",
     "iopub.status.idle": "2023-01-22T11:27:53.221545Z",
     "shell.execute_reply": "2023-01-22T11:27:53.220317Z"
    },
    "papermill": {
     "duration": 0.06019,
     "end_time": "2023-01-22T11:27:53.224151",
     "exception": false,
     "start_time": "2023-01-22T11:27:53.163961",
     "status": "completed"
    },
    "tags": []
   },
   "outputs": [],
   "source": [
    "train[['Cabin_deck','Cabin_num','Cabin_side']] = train['Cabin'].str.split(\"/\",expand=True)\n",
    "\n",
    "test[['Cabin_deck','Cabin_num','Cabin_side']] = test['Cabin'].str.split(\"/\",expand=True)"
   ]
  },
  {
   "cell_type": "code",
   "execution_count": 21,
   "id": "c10343c4",
   "metadata": {
    "execution": {
     "iopub.execute_input": "2023-01-22T11:27:53.270746Z",
     "iopub.status.busy": "2023-01-22T11:27:53.269264Z",
     "iopub.status.idle": "2023-01-22T11:27:53.287132Z",
     "shell.execute_reply": "2023-01-22T11:27:53.286151Z"
    },
    "papermill": {
     "duration": 0.043366,
     "end_time": "2023-01-22T11:27:53.289507",
     "exception": false,
     "start_time": "2023-01-22T11:27:53.246141",
     "status": "completed"
    },
    "tags": []
   },
   "outputs": [],
   "source": [
    "train.drop(columns=['PassengerId','Name','Cabin'],axis=1,inplace=True)\n",
    "\n",
    "test.drop(columns=['PassengerId','Name','Cabin'],axis=1,inplace=True)"
   ]
  },
  {
   "cell_type": "code",
   "execution_count": 22,
   "id": "511e7510",
   "metadata": {
    "execution": {
     "iopub.execute_input": "2023-01-22T11:27:53.335770Z",
     "iopub.status.busy": "2023-01-22T11:27:53.334992Z",
     "iopub.status.idle": "2023-01-22T11:27:53.343194Z",
     "shell.execute_reply": "2023-01-22T11:27:53.341895Z"
    },
    "papermill": {
     "duration": 0.034017,
     "end_time": "2023-01-22T11:27:53.345510",
     "exception": false,
     "start_time": "2023-01-22T11:27:53.311493",
     "status": "completed"
    },
    "tags": []
   },
   "outputs": [
    {
     "name": "stdout",
     "output_type": "stream",
     "text": [
      "Categorical features:  ['HomePlanet', 'CryoSleep', 'Destination', 'VIP', 'Group_No', 'No_in_group', 'Cabin_deck', 'Cabin_num', 'Cabin_side']\n",
      "Numerical features:  ['Age', 'RoomService', 'FoodCourt', 'ShoppingMall', 'Spa', 'VRDeck', 'total_exp', 'B_needs', 'L_needs']\n"
     ]
    }
   ],
   "source": [
    "cat_col = [a for a in train.columns if train[a].dtype in ['object']]\n",
    "num_col = [a for a in train.columns if train[a].dtype in ['float64']]\n",
    "print(\"Categorical features: \",cat_col)\n",
    "print('Numerical features: ', num_col)"
   ]
  },
  {
   "cell_type": "code",
   "execution_count": 23,
   "id": "eedb928d",
   "metadata": {
    "execution": {
     "iopub.execute_input": "2023-01-22T11:27:53.392950Z",
     "iopub.status.busy": "2023-01-22T11:27:53.391245Z",
     "iopub.status.idle": "2023-01-22T11:27:55.980869Z",
     "shell.execute_reply": "2023-01-22T11:27:55.979675Z"
    },
    "papermill": {
     "duration": 2.616187,
     "end_time": "2023-01-22T11:27:55.984036",
     "exception": false,
     "start_time": "2023-01-22T11:27:53.367849",
     "status": "completed"
    },
    "tags": []
   },
   "outputs": [
    {
     "data": {
      "text/plain": [
       "<AxesSubplot:xlabel='L_needs', ylabel='Density'>"
      ]
     },
     "execution_count": 23,
     "metadata": {},
     "output_type": "execute_result"
    },
    {
     "data": {
      "image/png": "[encoded data removed]",
      "text/plain": [
       "<Figure size 1440x1080 with 9 Axes>"
      ]
     },
     "metadata": {},
     "output_type": "display_data"
    }
   ],
   "source": [
    "# #Visualizing the numerical features\n",
    "fig,ax = plt.subplots(3,3,figsize=(20,15))\n",
    "\n",
    "sns.kdeplot(ax=ax[0,0],x='Age',data=train, fill=True,hue=round(train['Age'].skew(),2),palette=\"Spectral\")\n",
    "sns.kdeplot(ax=ax[0,1],x='RoomService',data=train, fill=True, hue=round(train['RoomService'].skew(),2),palette='Spectral')\n",
    "sns.kdeplot(ax=ax[0,2],x='FoodCourt',data=train, fill=True, hue=round(train['FoodCourt'].skew(),2),palette=\"Spectral\")\n",
    "sns.kdeplot(ax=ax[1,0],x='ShoppingMall',data=train, fill=True, hue=round(train['ShoppingMall'].skew(),2),palette=\"Spectral\")\n",
    "sns.kdeplot(ax=ax[1,1],x='Spa',data=train, fill=True, hue=round(train['Spa'].skew(),2),palette=\"Spectral\")\n",
    "sns.kdeplot(ax=ax[1,2],x='VRDeck',data=train, fill=True, hue=round(train['VRDeck'].skew(),2),palette=\"Spectral\")\n",
    "sns.kdeplot(ax=ax[2,0],x='total_exp',data=train, fill=True, hue=round(train['total_exp'].skew(),2),palette=\"Spectral\")\n",
    "sns.kdeplot(ax=ax[2,1],x='B_needs',data=train, fill=True, hue=round(train['B_needs'].skew(),2),palette=\"Spectral\")\n",
    "sns.kdeplot(ax=ax[2,2],x='L_needs',data=train, fill=True, hue=round(train['L_needs'].skew(),2),palette=\"Spectral\")"
   ]
  },
  {
   "cell_type": "markdown",
   "id": "26043bcd",
   "metadata": {
    "papermill": {
     "duration": 0.025418,
     "end_time": "2023-01-22T11:27:56.035217",
     "exception": false,
     "start_time": "2023-01-22T11:27:56.009799",
     "status": "completed"
    },
    "tags": []
   },
   "source": [
    "> All Numerical features are tail-heavy, they are left-skewed"
   ]
  },
  {
   "cell_type": "markdown",
   "id": "87b54361",
   "metadata": {
    "papermill": {
     "duration": 0.026843,
     "end_time": "2023-01-22T11:27:56.086567",
     "exception": false,
     "start_time": "2023-01-22T11:27:56.059724",
     "status": "completed"
    },
    "tags": []
   },
   "source": [
    "# **Preprocessing**"
   ]
  },
  {
   "cell_type": "code",
   "execution_count": 24,
   "id": "cc320f34",
   "metadata": {
    "execution": {
     "iopub.execute_input": "2023-01-22T11:27:56.140939Z",
     "iopub.status.busy": "2023-01-22T11:27:56.140385Z",
     "iopub.status.idle": "2023-01-22T11:27:56.147419Z",
     "shell.execute_reply": "2023-01-22T11:27:56.144764Z"
    },
    "papermill": {
     "duration": 0.037376,
     "end_time": "2023-01-22T11:27:56.150219",
     "exception": false,
     "start_time": "2023-01-22T11:27:56.112843",
     "status": "completed"
    },
    "tags": []
   },
   "outputs": [],
   "source": [
    "#log transformation\n",
    "# train[num_col] = train[num_col].applymap(lambda x: np.log(x) if x>0 else 0)"
   ]
  },
  {
   "cell_type": "code",
   "execution_count": 25,
   "id": "bb43bfae",
   "metadata": {
    "execution": {
     "iopub.execute_input": "2023-01-22T11:27:56.210687Z",
     "iopub.status.busy": "2023-01-22T11:27:56.209660Z",
     "iopub.status.idle": "2023-01-22T11:27:56.388117Z",
     "shell.execute_reply": "2023-01-22T11:27:56.386806Z"
    },
    "papermill": {
     "duration": 0.210604,
     "end_time": "2023-01-22T11:27:56.391085",
     "exception": false,
     "start_time": "2023-01-22T11:27:56.180481",
     "status": "completed"
    },
    "tags": []
   },
   "outputs": [],
   "source": [
    "#box-cox trasformation\n",
    "train[num_col] =power_transform(train[num_col],method='yeo-johnson',standardize=True)\n",
    "\n",
    "test[num_col] =power_transform(test[num_col],method='yeo-johnson',standardize=True)\n"
   ]
  },
  {
   "cell_type": "markdown",
   "id": "372b8715",
   "metadata": {
    "papermill": {
     "duration": 0.023945,
     "end_time": "2023-01-22T11:27:56.439376",
     "exception": false,
     "start_time": "2023-01-22T11:27:56.415431",
     "status": "completed"
    },
    "tags": []
   },
   "source": [
    "> yeo-johnson worked better than log transformation in making the numerical distribution more guassian-like"
   ]
  },
  {
   "cell_type": "code",
   "execution_count": 26,
   "id": "7813b086",
   "metadata": {
    "execution": {
     "iopub.execute_input": "2023-01-22T11:27:56.490242Z",
     "iopub.status.busy": "2023-01-22T11:27:56.489646Z",
     "iopub.status.idle": "2023-01-22T11:27:59.046271Z",
     "shell.execute_reply": "2023-01-22T11:27:59.045356Z"
    },
    "papermill": {
     "duration": 2.586231,
     "end_time": "2023-01-22T11:27:59.049931",
     "exception": false,
     "start_time": "2023-01-22T11:27:56.463700",
     "status": "completed"
    },
    "tags": []
   },
   "outputs": [
    {
     "data": {
      "text/plain": [
       "<AxesSubplot:xlabel='L_needs', ylabel='Density'>"
      ]
     },
     "execution_count": 26,
     "metadata": {},
     "output_type": "execute_result"
    },
    {
     "data": {
      "image/png": "[encoded data removed]",
      "text/plain": [
       "<Figure size 1440x1080 with 9 Axes>"
      ]
     },
     "metadata": {},
     "output_type": "display_data"
    }
   ],
   "source": [
    "fig,ax = plt.subplots(3,3,figsize=(20,15))\n",
    "\n",
    "sns.kdeplot(ax=ax[0,0],x='Age',data=train, fill=True,hue=round(train['Age'].skew(),2),palette=\"Spectral\")\n",
    "sns.kdeplot(ax=ax[0,1],x='RoomService',data=train, fill=True, hue=round(train['RoomService'].skew(),2),palette='Spectral')\n",
    "sns.kdeplot(ax=ax[0,2],x='FoodCourt',data=train, fill=True, hue=round(train['FoodCourt'].skew(),2),palette=\"Spectral\")\n",
    "sns.kdeplot(ax=ax[1,0],x='ShoppingMall',data=train, fill=True, hue=round(train['ShoppingMall'].skew(),2),palette=\"Spectral\")\n",
    "sns.kdeplot(ax=ax[1,1],x='Spa',data=train, fill=True, hue=round(train['Spa'].skew(),2),palette=\"Spectral\")\n",
    "sns.kdeplot(ax=ax[1,2],x='VRDeck',data=train, fill=True, hue=round(train['VRDeck'].skew(),2),palette=\"Spectral\")\n",
    "sns.kdeplot(ax=ax[2,0],x='total_exp',data=train, fill=True, hue=round(train['total_exp'].skew(),2),palette=\"Spectral\")\n",
    "sns.kdeplot(ax=ax[2,1],x='B_needs',data=train, fill=True, hue=round(train['B_needs'].skew(),2),palette=\"Spectral\")\n",
    "sns.kdeplot(ax=ax[2,2],x='L_needs',data=train, fill=True, hue=round(train['L_needs'].skew(),2),palette=\"Spectral\")"
   ]
  },
  {
   "cell_type": "code",
   "execution_count": 27,
   "id": "7121f490",
   "metadata": {
    "execution": {
     "iopub.execute_input": "2023-01-22T11:27:59.118962Z",
     "iopub.status.busy": "2023-01-22T11:27:59.117977Z",
     "iopub.status.idle": "2023-01-22T11:27:59.247183Z",
     "shell.execute_reply": "2023-01-22T11:27:59.245914Z"
    },
    "papermill": {
     "duration": 0.166515,
     "end_time": "2023-01-22T11:27:59.249899",
     "exception": false,
     "start_time": "2023-01-22T11:27:59.083384",
     "status": "completed"
    },
    "tags": []
   },
   "outputs": [],
   "source": [
    "#encoding the categorical features\n",
    "train[cat_col] = OrdinalEncoder().fit_transform(train[cat_col])\n",
    "\n",
    "test[cat_col] = OrdinalEncoder().fit_transform(test[cat_col])"
   ]
  },
  {
   "cell_type": "markdown",
   "id": "237da927",
   "metadata": {
    "papermill": {
     "duration": 0.025841,
     "end_time": "2023-01-22T11:27:59.302011",
     "exception": false,
     "start_time": "2023-01-22T11:27:59.276170",
     "status": "completed"
    },
    "tags": []
   },
   "source": [
    "**We will onehot encode the categorical columns which have unique values of less than 5.And these are HomePlanet,CryoSleep,Destination,VIP,Cabin_side.**"
   ]
  },
  {
   "cell_type": "code",
   "execution_count": 28,
   "id": "ed8f74e8",
   "metadata": {
    "execution": {
     "iopub.execute_input": "2023-01-22T11:27:59.356971Z",
     "iopub.status.busy": "2023-01-22T11:27:59.356330Z",
     "iopub.status.idle": "2023-01-22T11:27:59.361792Z",
     "shell.execute_reply": "2023-01-22T11:27:59.360855Z"
    },
    "papermill": {
     "duration": 0.035804,
     "end_time": "2023-01-22T11:27:59.364163",
     "exception": false,
     "start_time": "2023-01-22T11:27:59.328359",
     "status": "completed"
    },
    "tags": []
   },
   "outputs": [],
   "source": [
    "# ohe = OneHotEncoder()\n",
    "\n",
    "# ohe_col = ['HomePlanet','CryoSleep','Destination','VIP','Cabin_side']\n",
    "# codes = ohe.fit_transform(train[ohe_col]).toarray()\n",
    "# feature_names= ohe.get_feature_names(ohe_col)\n",
    "\n",
    "# ohe_cat_train = pd.DataFrame(data=codes,columns=feature_names)\n",
    "# train = train.drop(columns=ohe_col,axis=1)\n",
    "\n",
    "# ohe_train = pd.concat([train, ohe_cat_train],axis=1)\n",
    "\n",
    "\n",
    "\n"
   ]
  },
  {
   "cell_type": "code",
   "execution_count": 29,
   "id": "0759537a",
   "metadata": {
    "execution": {
     "iopub.execute_input": "2023-01-22T11:27:59.419588Z",
     "iopub.status.busy": "2023-01-22T11:27:59.418412Z",
     "iopub.status.idle": "2023-01-22T11:27:59.423592Z",
     "shell.execute_reply": "2023-01-22T11:27:59.422632Z"
    },
    "papermill": {
     "duration": 0.035232,
     "end_time": "2023-01-22T11:27:59.425756",
     "exception": false,
     "start_time": "2023-01-22T11:27:59.390524",
     "status": "completed"
    },
    "tags": []
   },
   "outputs": [],
   "source": [
    "# ohe_train['Cabin_deck'] = enc.fit_transform(ohe_train['Cabin_deck'])\n",
    "# ohe_train['Group_No']= ohe_train['Group_No'].astype('int64')\n",
    "# ohe_train['No_in_group']= ohe_train['No_in_group'].astype('int64')\n",
    "# ohe_train['Cabin_num']= ohe_train['Cabin_num'].astype('int64')\n"
   ]
  },
  {
   "cell_type": "code",
   "execution_count": 30,
   "id": "3b2a2d62",
   "metadata": {
    "execution": {
     "iopub.execute_input": "2023-01-22T11:27:59.481151Z",
     "iopub.status.busy": "2023-01-22T11:27:59.479840Z",
     "iopub.status.idle": "2023-01-22T11:27:59.484848Z",
     "shell.execute_reply": "2023-01-22T11:27:59.483967Z"
    },
    "papermill": {
     "duration": 0.034846,
     "end_time": "2023-01-22T11:27:59.486986",
     "exception": false,
     "start_time": "2023-01-22T11:27:59.452140",
     "status": "completed"
    },
    "tags": []
   },
   "outputs": [],
   "source": [
    "# for i in ['Cabin_deck','Group_No','No_in_group','Cabin_num']:\n",
    "#     ohe_train[[i]] =power_transform(ohe_train[[i]],method='yeo-johnson',standardize=True)\n",
    "    "
   ]
  },
  {
   "cell_type": "code",
   "execution_count": 31,
   "id": "572f8c91",
   "metadata": {
    "execution": {
     "iopub.execute_input": "2023-01-22T11:27:59.544090Z",
     "iopub.status.busy": "2023-01-22T11:27:59.542740Z",
     "iopub.status.idle": "2023-01-22T11:27:59.548256Z",
     "shell.execute_reply": "2023-01-22T11:27:59.547426Z"
    },
    "papermill": {
     "duration": 0.036024,
     "end_time": "2023-01-22T11:27:59.550494",
     "exception": false,
     "start_time": "2023-01-22T11:27:59.514470",
     "status": "completed"
    },
    "tags": []
   },
   "outputs": [],
   "source": [
    "# ohe_train.head()"
   ]
  },
  {
   "cell_type": "code",
   "execution_count": 32,
   "id": "13789a81",
   "metadata": {
    "execution": {
     "iopub.execute_input": "2023-01-22T11:27:59.605677Z",
     "iopub.status.busy": "2023-01-22T11:27:59.604822Z",
     "iopub.status.idle": "2023-01-22T11:27:59.613094Z",
     "shell.execute_reply": "2023-01-22T11:27:59.612218Z"
    },
    "papermill": {
     "duration": 0.038678,
     "end_time": "2023-01-22T11:27:59.615488",
     "exception": false,
     "start_time": "2023-01-22T11:27:59.576810",
     "status": "completed"
    },
    "tags": []
   },
   "outputs": [],
   "source": [
    "# for ordinal encoding\n",
    "\n",
    "features = num_col + cat_col\n",
    "X = train[features]\n",
    "y = train['Transported']\n"
   ]
  },
  {
   "cell_type": "code",
   "execution_count": 33,
   "id": "37354497",
   "metadata": {
    "execution": {
     "iopub.execute_input": "2023-01-22T11:27:59.671416Z",
     "iopub.status.busy": "2023-01-22T11:27:59.670527Z",
     "iopub.status.idle": "2023-01-22T11:27:59.675437Z",
     "shell.execute_reply": "2023-01-22T11:27:59.674644Z"
    },
    "papermill": {
     "duration": 0.035857,
     "end_time": "2023-01-22T11:27:59.677822",
     "exception": false,
     "start_time": "2023-01-22T11:27:59.641965",
     "status": "completed"
    },
    "tags": []
   },
   "outputs": [],
   "source": [
    "# for OnehotEncoding\n",
    "# features = list(train.columns)+ list(feature_names)\n",
    "# X= ohe_train[features]\n",
    "# y= ohe_train['Transported']\n",
    "\n"
   ]
  },
  {
   "cell_type": "markdown",
   "id": "2ebfd95d",
   "metadata": {
    "papermill": {
     "duration": 0.026451,
     "end_time": "2023-01-22T11:27:59.730710",
     "exception": false,
     "start_time": "2023-01-22T11:27:59.704259",
     "status": "completed"
    },
    "tags": []
   },
   "source": [
    "# **Training a model**"
   ]
  },
  {
   "cell_type": "code",
   "execution_count": 34,
   "id": "9cc48be5",
   "metadata": {
    "execution": {
     "iopub.execute_input": "2023-01-22T11:27:59.785764Z",
     "iopub.status.busy": "2023-01-22T11:27:59.784912Z",
     "iopub.status.idle": "2023-01-22T11:27:59.790281Z",
     "shell.execute_reply": "2023-01-22T11:27:59.789421Z"
    },
    "papermill": {
     "duration": 0.035564,
     "end_time": "2023-01-22T11:27:59.792544",
     "exception": false,
     "start_time": "2023-01-22T11:27:59.756980",
     "status": "completed"
    },
    "tags": []
   },
   "outputs": [],
   "source": [
    "#finding optimal hyperparameters(GridSearchCV)\n",
    "\n",
    "# parameters = {'penalty':['l2'], \n",
    "#               'C': [0, 0.1,0.5,1,5,10], \n",
    "#               'solver':['sag','saga','lbfgs'], \n",
    "#               'max_iter':[100,1000,10000,100000]\n",
    "#               }\n",
    "\n",
    "# model = LogisticRegression()\n",
    "# Search = GridSearchCV(model, parameters, scoring= 'accuracy', n_jobs=1, \n",
    "#                      cv=5,verbose=1,).fit(X,y)\n",
    "\n",
    "# optimal_parameters = Search.best_params_\n",
    "# print(\"Optimal Parameters:\",optimal_parameters)"
   ]
  },
  {
   "cell_type": "code",
   "execution_count": 35,
   "id": "5a3ee944",
   "metadata": {
    "execution": {
     "iopub.execute_input": "2023-01-22T11:27:59.847873Z",
     "iopub.status.busy": "2023-01-22T11:27:59.846982Z",
     "iopub.status.idle": "2023-01-22T11:27:59.852698Z",
     "shell.execute_reply": "2023-01-22T11:27:59.851662Z"
    },
    "papermill": {
     "duration": 0.036346,
     "end_time": "2023-01-22T11:27:59.855227",
     "exception": false,
     "start_time": "2023-01-22T11:27:59.818881",
     "status": "completed"
    },
    "tags": []
   },
   "outputs": [],
   "source": [
    "#baysian optimization(finding parameters values that gives optimal performance to the model)\n",
    "\n",
    "# n_iter = 100\n",
    "\n",
    "# parameters = {'penalty':('l2'), \n",
    "#               'C': (0,10), \n",
    "#               'solver':('sag','saga'), \n",
    "#               'max_iter':(100,1000,10000,100000)\n",
    "#               }\n",
    "\n",
    "# model = LogisticRegression(random_state=42)\n",
    "# Search = BayesSearchCV(model, parameters,n_iter=n_iter, scoring= 'accuracy', n_jobs=-1, \n",
    "#                      cv=5,verbose=0).fit(X,y)\n",
    "\n",
    "# cv_results = pd.DataFrame(data= Search.cv_results_,columns= list(parameters.keys()))\n",
    "# optimal_parameters = Search.best_params_\n",
    "# print(\"Optimal Parameters:\",optimal_parameters)"
   ]
  },
  {
   "cell_type": "markdown",
   "id": "cf6acd03",
   "metadata": {
    "papermill": {
     "duration": 0.026132,
     "end_time": "2023-01-22T11:27:59.908130",
     "exception": false,
     "start_time": "2023-01-22T11:27:59.881998",
     "status": "completed"
    },
    "tags": []
   },
   "source": [
    "># **Logistic Baseline**"
   ]
  },
  {
   "cell_type": "code",
   "execution_count": 36,
   "id": "4bfdb9f8",
   "metadata": {
    "execution": {
     "iopub.execute_input": "2023-01-22T11:27:59.963813Z",
     "iopub.status.busy": "2023-01-22T11:27:59.962926Z",
     "iopub.status.idle": "2023-01-22T11:27:59.968843Z",
     "shell.execute_reply": "2023-01-22T11:27:59.967875Z"
    },
    "papermill": {
     "duration": 0.036628,
     "end_time": "2023-01-22T11:27:59.971334",
     "exception": false,
     "start_time": "2023-01-22T11:27:59.934706",
     "status": "completed"
    },
    "tags": []
   },
   "outputs": [],
   "source": [
    "# cross-validation and logistic Regression\n",
    "\n",
    "# cv=10\n",
    "# metric = []\n",
    "\n",
    "# kfold = KFold(n_splits=cv,random_state=52, shuffle=True)\n",
    "# for idx,(train_idx, val_idx) in enumerate(kfold.split(ohe_train)):\n",
    "#     xtrain, xvalid = X.loc[train_idx], X.loc[val_idx]\n",
    "#     ytrain, yvalid = y.loc[train_idx], y.loc[val_idx]\n",
    "    \n",
    "#     #initializing a model\n",
    "#     global log_model\n",
    "#     log_model = LogisticRegression(penalty='l2',C=10,max_iter=1000,solver='liblinear')\n",
    "#     log_model.fit(xtrain,ytrain)\n",
    "#     pred_train= log_model.predict(xtrain)\n",
    "#     preds = log_model.predict(xvalid)\n",
    "#     #evaluation metric\n",
    "#     accuracy_train = accuracy_score(ytrain,pred_train)\n",
    "#     accuracy = accuracy_score(yvalid,preds)\n",
    "#     metric.append(accuracy)\n",
    "#     accu_tr_list.append(accuracy_train)\n",
    "#     accu_te_list.append(accuracy)\n",
    "#     print(f\"accuracy in fold:{idx} is: {accuracy} and in valid_set is : {accuracy_train}\")\n",
    "# print(f\"mean accuracy in {cv}folds is: {np.mean(metric)}\")   \n",
    "    "
   ]
  },
  {
   "cell_type": "markdown",
   "id": "929ce9dc",
   "metadata": {
    "papermill": {
     "duration": 0.026177,
     "end_time": "2023-01-22T11:28:00.024440",
     "exception": false,
     "start_time": "2023-01-22T11:27:59.998263",
     "status": "completed"
    },
    "tags": []
   },
   "source": [
    "# 2.LinearSVC"
   ]
  },
  {
   "cell_type": "code",
   "execution_count": 37,
   "id": "630da40e",
   "metadata": {
    "execution": {
     "iopub.execute_input": "2023-01-22T11:28:00.080387Z",
     "iopub.status.busy": "2023-01-22T11:28:00.079482Z",
     "iopub.status.idle": "2023-01-22T11:28:00.085212Z",
     "shell.execute_reply": "2023-01-22T11:28:00.084325Z"
    },
    "papermill": {
     "duration": 0.036584,
     "end_time": "2023-01-22T11:28:00.087487",
     "exception": false,
     "start_time": "2023-01-22T11:28:00.050903",
     "status": "completed"
    },
    "tags": []
   },
   "outputs": [],
   "source": [
    "# cv=10\n",
    "# metric = []\n",
    "\n",
    "# kfold = KFold(n_splits=cv,random_state=52, shuffle=True)\n",
    "# for idx,(train_idx, val_idx) in enumerate(kfold.split(train)):\n",
    "#     xtrain, xvalid = X.loc[train_idx], X.loc[val_idx]\n",
    "#     ytrain, yvalid = y.loc[train_idx], y.loc[val_idx]\n",
    "    \n",
    "#     #initializing a model\n",
    "#     global svc_model\n",
    "#     svc_model = LinearSVC(C=5,dual=False)\n",
    "#     svc_model.fit(xtrain,ytrain)\n",
    "#     pred_train= svc_model.predict(xtrain)\n",
    "#     preds = svc_model.predict(xvalid)\n",
    "#     #evaluation metric\n",
    "#     accuracy_train = accuracy_score(ytrain,pred_train)\n",
    "#     accuracy = accuracy_score(yvalid,preds)\n",
    "#     metric.append(accuracy)\n",
    "#     print(f\"accuracy in fold:{idx} is: {accuracy} and in train_set is : {accuracy_train}\")\n",
    "    \n",
    "# print(f\"mean accuracy in {cv}folds is: {np.mean(metric)}\") "
   ]
  },
  {
   "cell_type": "code",
   "execution_count": 38,
   "id": "a64d9161",
   "metadata": {
    "execution": {
     "iopub.execute_input": "2023-01-22T11:28:00.142607Z",
     "iopub.status.busy": "2023-01-22T11:28:00.141734Z",
     "iopub.status.idle": "2023-01-22T11:28:00.147868Z",
     "shell.execute_reply": "2023-01-22T11:28:00.146866Z"
    },
    "papermill": {
     "duration": 0.036776,
     "end_time": "2023-01-22T11:28:00.150400",
     "exception": false,
     "start_time": "2023-01-22T11:28:00.113624",
     "status": "completed"
    },
    "tags": []
   },
   "outputs": [],
   "source": [
    "#cross validation and DecisionTreeClassifier\n",
    "\n",
    "# cv=10\n",
    "# metric = []\n",
    "\n",
    "# kfold = KFold(n_splits=cv,random_state=52, shuffle=True)\n",
    "# for idx,(train_idx, val_idx) in enumerate(kfold.split(train)):\n",
    "#     xtrain, xvalid = X.loc[train_idx], X.loc[val_idx]\n",
    "#     ytrain, yvalid = y.loc[train_idx], y.loc[val_idx]\n",
    "    \n",
    "#     #initializing a model\n",
    "#     global tree_model\n",
    "#     tree_model = DecisionTreeClassifier(max_depth=50,\n",
    "#                                         min_samples_split=2,\n",
    "#                                         min_samples_leaf=2,\n",
    "#                                         min_weight_fraction_leaf=0.0,\n",
    "#                                         random_state=42,\n",
    "#                                         max_leaf_nodes=8,\n",
    "#                                         class_weight=None\n",
    "#                                          )\n",
    "#     tree_model.fit(xtrain,ytrain)\n",
    "#     pred_train= tree_model.predict(xtrain)\n",
    "#     preds = tree_model.predict(xvalid)\n",
    "#     #evaluation metric\n",
    "#     accuracy_train = accuracy_score(ytrain,pred_train)\n",
    "#     accuracy = accuracy_score(yvalid,preds)\n",
    "#     metric.append(accuracy)\n",
    "#     print(f\"accuracy in fold:{idx} is: {accuracy} and in train_set is : {accuracy_train}\")\n",
    "    \n",
    "# print(f\"mean accuracy in {cv}folds is: {np.mean(metric)}\") "
   ]
  },
  {
   "cell_type": "markdown",
   "id": "5f720d9f",
   "metadata": {
    "papermill": {
     "duration": 0.026124,
     "end_time": "2023-01-22T11:28:00.204150",
     "exception": false,
     "start_time": "2023-01-22T11:28:00.178026",
     "status": "completed"
    },
    "tags": []
   },
   "source": [
    "# **Ensemble**"
   ]
  },
  {
   "cell_type": "markdown",
   "id": "e5983d6c",
   "metadata": {
    "papermill": {
     "duration": 0.026078,
     "end_time": "2023-01-22T11:28:00.257734",
     "exception": false,
     "start_time": "2023-01-22T11:28:00.231656",
     "status": "completed"
    },
    "tags": []
   },
   "source": [
    "# 1.Bagging Classifier"
   ]
  },
  {
   "cell_type": "code",
   "execution_count": 39,
   "id": "1d3251b0",
   "metadata": {
    "execution": {
     "iopub.execute_input": "2023-01-22T11:28:00.312847Z",
     "iopub.status.busy": "2023-01-22T11:28:00.311988Z",
     "iopub.status.idle": "2023-01-22T11:28:00.317459Z",
     "shell.execute_reply": "2023-01-22T11:28:00.316221Z"
    },
    "papermill": {
     "duration": 0.035854,
     "end_time": "2023-01-22T11:28:00.319904",
     "exception": false,
     "start_time": "2023-01-22T11:28:00.284050",
     "status": "completed"
    },
    "tags": []
   },
   "outputs": [],
   "source": [
    "# max_depth=50,\n",
    "#                                    min_samples_split=2,\n",
    "#                                    min_samples_leaf=2,\n",
    "#                                    min_weight_fraction_leaf=0.0,\n",
    "#                                    random_state=42,\n",
    "#                                    max_leaf_nodes=8,\n",
    "# #                                    class_weight=None"
   ]
  },
  {
   "cell_type": "code",
   "execution_count": 40,
   "id": "5891bcfd",
   "metadata": {
    "execution": {
     "iopub.execute_input": "2023-01-22T11:28:00.374841Z",
     "iopub.status.busy": "2023-01-22T11:28:00.374355Z",
     "iopub.status.idle": "2023-01-22T11:28:00.380782Z",
     "shell.execute_reply": "2023-01-22T11:28:00.379479Z"
    },
    "papermill": {
     "duration": 0.036871,
     "end_time": "2023-01-22T11:28:00.383173",
     "exception": false,
     "start_time": "2023-01-22T11:28:00.346302",
     "status": "completed"
    },
    "tags": []
   },
   "outputs": [],
   "source": [
    "#cross validation and Ensemble of decision Trees with BaggingClassier(bagging classifier just work as providing \n",
    "# different random sample to different trees and then aggregating the predictions of all classifiers(most-frequent decisions), \n",
    "# we can use any model for bagging like SVC or logistic regression.\n",
    "\n",
    "\n",
    "\n",
    "# cv=15\n",
    "# metric = []\n",
    "# accu_tr_list= list()\n",
    "# accu_te_list = list()\n",
    "\n",
    "# kfold = KFold(n_splits=cv,random_state=52,shuffle=True)\n",
    "# for idx,(train_idx, val_idx) in enumerate(kfold.split(train)):\n",
    "#     xtrain, xvalid = X.loc[train_idx], X.loc[val_idx]\n",
    "#     ytrain, yvalid = y.loc[train_idx], y.loc[val_idx]\n",
    "    \n",
    "#     #initializing a model\n",
    "#     global model\n",
    "#     model = DecisionTreeClassifier(max_depth=50,\n",
    "#                                    min_samples_split=2,\n",
    "#                                    min_samples_leaf=2,\n",
    "#                                    min_weight_fraction_leaf=0.0,\n",
    "#                                    random_state=42,\n",
    "#                                    max_leaf_nodes=8,\n",
    "#                                    class_weight=None)\n",
    "#     bag_clf = BaggingClassifier(base_estimator=model, n_estimators=500, \n",
    "#                                 bootstrap=True,max_samples=1000,n_jobs=-1)\n",
    "    \n",
    "#     bag_clf.fit(xtrain,ytrain)\n",
    "#     pred_train= bag_clf.predict(xtrain)\n",
    "#     preds = bag_clf.predict(xvalid)\n",
    "#     #evaluation metric\n",
    "#     accuracy_train = accuracy_score(ytrain,pred_train)\n",
    "#     accuracy = accuracy_score(yvalid,preds)\n",
    "#     metric.append(accuracy)\n",
    "#     accu_tr_list.append(accuracy_train)\n",
    "#     accu_te_list.append(accuracy)\n",
    "#     print(f\"accuracy in fold:{idx} is: {accuracy} and in train_set is : {accuracy_train}\")\n",
    "    \n",
    "# print(f\"mean accuracy in {cv}folds is: {np.mean(metric)}\") \n",
    "\n",
    "# #plotting the accuracy in each fold\n",
    "# acc_df = pd.DataFrame({'fold':np.arange(cv),'ac_train':np.around(np.array(accu_tr_list),4),\n",
    "#                        'ac_valid':np.around(np.array(accu_te_list),4)})\n",
    "\n",
    "# fig = px.line(acc_df,x='fold',y=acc_df.columns[1:])\n",
    "# fig.show()"
   ]
  },
  {
   "cell_type": "markdown",
   "id": "f4ff28d0",
   "metadata": {
    "papermill": {
     "duration": 0.026124,
     "end_time": "2023-01-22T11:28:00.435785",
     "exception": false,
     "start_time": "2023-01-22T11:28:00.409661",
     "status": "completed"
    },
    "tags": []
   },
   "source": [
    "Training for 10 folds is giving good accuracy when we increase fold by to 15, it gives little better perfomance but in 20 fold it accuracy goes down in final submission. So 15  is optimal fold here:)\n",
    "As we see in plot that accuracy in training set(ac_train) is almost same but accuracy in validation set (ac_valid) is fluctuating a lot. First it have gone up because our model was just in initial training set"
   ]
  },
  {
   "cell_type": "code",
   "execution_count": 41,
   "id": "fbb8a227",
   "metadata": {
    "execution": {
     "iopub.execute_input": "2023-01-22T11:28:00.491099Z",
     "iopub.status.busy": "2023-01-22T11:28:00.490212Z",
     "iopub.status.idle": "2023-01-22T11:28:00.495608Z",
     "shell.execute_reply": "2023-01-22T11:28:00.494750Z"
    },
    "papermill": {
     "duration": 0.035728,
     "end_time": "2023-01-22T11:28:00.497916",
     "exception": false,
     "start_time": "2023-01-22T11:28:00.462188",
     "status": "completed"
    },
    "tags": []
   },
   "outputs": [],
   "source": [
    "#finding optimal hyperparameters(RandomizedSearchCV)\n",
    "\n",
    "# n_iter =100\n",
    "# parameters = {'max_depth':randint(50,1000), \n",
    "#               'max_samples': loguniform(0.5,1.0), \n",
    "#               'n_estimators':randint(50,500), \n",
    "#               'max_leaf_nodes':randint(5,30)\n",
    "#               }\n",
    "\n",
    "# model = RandomForestClassifier(random_state=42)\n",
    "# Search = RandomizedSearchCV(model, parameters,n_iter=n_iter, scoring= 'accuracy', n_jobs=-1, \n",
    "#                      cv=5,verbose=1).fit(X,y)\n",
    "\n",
    "# optimal_parameters = Search.best_params_\n",
    "# print(\"Optimal Parameters:\",optimal_parameters)"
   ]
  },
  {
   "cell_type": "code",
   "execution_count": 42,
   "id": "7d6657ab",
   "metadata": {
    "execution": {
     "iopub.execute_input": "2023-01-22T11:28:00.552891Z",
     "iopub.status.busy": "2023-01-22T11:28:00.552025Z",
     "iopub.status.idle": "2023-01-22T11:28:00.557737Z",
     "shell.execute_reply": "2023-01-22T11:28:00.556688Z"
    },
    "papermill": {
     "duration": 0.035963,
     "end_time": "2023-01-22T11:28:00.560068",
     "exception": false,
     "start_time": "2023-01-22T11:28:00.524105",
     "status": "completed"
    },
    "tags": []
   },
   "outputs": [],
   "source": [
    "#baysian optimization(it worked better than Randomized seach CV, see this discussion for more,\n",
    "# https://www.kaggle.com/discussions/questions-and-answers/379525#2108445)\n",
    "\n",
    "# n_iter = 100\n",
    "# parameters = {'max_depth':(50,1000), \n",
    "#               'max_samples': (0.5,1.0,\"log-uniform\"), \n",
    "#               'n_estimators':(50,500), \n",
    "#               'max_leaf_nodes':(5,30)\n",
    "#               }\n",
    "\n",
    "# model = RandomForestClassifier(random_state=42)\n",
    "# Search = BayesSearchCV(model, parameters,n_iter=n_iter, scoring= 'accuracy', n_jobs=-1, \n",
    "#                      cv=5,verbose=1).fit(X,y)\n",
    "\n",
    "# optimal_parameters = Search.best_params_\n",
    "# print(\"Optimal Parameters:\",optimal_parameters)"
   ]
  },
  {
   "cell_type": "code",
   "execution_count": 43,
   "id": "7a1ce9ce",
   "metadata": {
    "execution": {
     "iopub.execute_input": "2023-01-22T11:28:00.615227Z",
     "iopub.status.busy": "2023-01-22T11:28:00.614784Z",
     "iopub.status.idle": "2023-01-22T11:28:00.619829Z",
     "shell.execute_reply": "2023-01-22T11:28:00.618876Z"
    },
    "papermill": {
     "duration": 0.035322,
     "end_time": "2023-01-22T11:28:00.621912",
     "exception": false,
     "start_time": "2023-01-22T11:28:00.586590",
     "status": "completed"
    },
    "tags": []
   },
   "outputs": [],
   "source": [
    "# #optuna\n",
    "# def objective(trial):\n",
    "#     max_depth = trial.suggest_int('max_depth',50,100)\n",
    "#     max_samples = trial.suggest_loguniform('max_samples',0.5,1.0 )\n",
    "#     n_estimators = trial.suggest_int('n_estimators',50,500)\n",
    "#     max_leaf = trial.suggest_int('max_leaf_nodes',5,30)\n",
    "#     clf =RandomForestClassifier(max_depth=max_depth,random_state=42,max_samples=max_samples,\n",
    "#                                       max_leaf_nodes=max_leaf,n_estimators=n_estimators,)\n",
    "#     return cross_val_score(clf,X,y,cv=5,scoring='accuracy',n_jobs=-1)\n",
    "\n",
    "# study = optuna.create_study(direction='maximize')\n",
    "# study.optimize(objective,n_trials=100)\n",
    "\n",
    "# trial = study.best_trial\n",
    "# print(f\"Accuracy: {trial.value}\")\n",
    "# print(f\"best_parameter_combinations: {trial.params}\")"
   ]
  },
  {
   "cell_type": "markdown",
   "id": "d2fc0f5d",
   "metadata": {
    "papermill": {
     "duration": 0.026089,
     "end_time": "2023-01-22T11:28:00.675299",
     "exception": false,
     "start_time": "2023-01-22T11:28:00.649210",
     "status": "completed"
    },
    "tags": []
   },
   "source": [
    "# 2.RandomForestClassifier"
   ]
  },
  {
   "cell_type": "code",
   "execution_count": 44,
   "id": "60881e2e",
   "metadata": {
    "execution": {
     "iopub.execute_input": "2023-01-22T11:28:00.730827Z",
     "iopub.status.busy": "2023-01-22T11:28:00.729910Z",
     "iopub.status.idle": "2023-01-22T11:28:16.906983Z",
     "shell.execute_reply": "2023-01-22T11:28:16.905913Z"
    },
    "papermill": {
     "duration": 16.208054,
     "end_time": "2023-01-22T11:28:16.909767",
     "exception": false,
     "start_time": "2023-01-22T11:28:00.701713",
     "status": "completed"
    },
    "tags": []
   },
   "outputs": [
    {
     "name": "stdout",
     "output_type": "stream",
     "text": [
      "accuracy in fold:0 is: 0.8229885057471265 and in train_set is : 0.8014828071072478\n",
      "accuracy in fold:1 is: 0.8080459770114943 and in train_set is : 0.8028889172951553\n",
      "accuracy in fold:2 is: 0.8022988505747126 and in train_set is : 0.8042950274830628\n",
      "accuracy in fold:3 is: 0.7779056386651323 and in train_set is : 0.8047034764826176\n",
      "accuracy in fold:4 is: 0.8043728423475259 and in train_set is : 0.8034253578732107\n",
      "accuracy in fold:5 is: 0.7951668584579977 and in train_set is : 0.8058537832310838\n",
      "accuracy in fold:6 is: 0.7686996547756041 and in train_set is : 0.8068762781186094\n",
      "accuracy in fold:7 is: 0.7790563866513234 and in train_set is : 0.8063650306748467\n",
      "accuracy in fold:8 is: 0.766398158803222 and in train_set is : 0.8071319018404908\n",
      "accuracy in fold:9 is: 0.8009205983889528 and in train_set is : 0.8040644171779141\n",
      "mean accuracy in 10folds is: 0.7925853471423092\n"
     ]
    },
    {
     "data": {
      "text/html": [
       "        <script type=\"text/javascript\">\n",
       "        window.PlotlyConfig = {MathJaxConfig: 'local'};\n",
       "        if (window.MathJax && window.MathJax.Hub && window.MathJax.Hub.Config) {window.MathJax.Hub.Config({SVG: {font: \"STIX-Web\"}});}\n",
       "        if (typeof require !== 'undefined') {\n",
       "        require.undef(\"plotly\");\n",
       "        requirejs.config({\n",
       "            paths: {\n",
       "                'plotly': ['https://cdn.plot.ly/plotly-2.16.1.min']\n",
       "            }\n",
       "        });\n",
       "        require(['plotly'], function(Plotly) {\n",
       "            window._Plotly = Plotly;\n",
       "        });\n",
       "        }\n",
       "        </script>\n",
       "        "
      ]
     },
     "metadata": {},
     "output_type": "display_data"
    },
    {
     "data": {
      "text/html": [
       "<div>                            <div id=\"fd6fac1d-8a4e-4520-b16c-1b294c779d2b\" class=\"plotly-graph-div\" style=\"height:525px; width:100%;\"></div>            <script type=\"text/javascript\">                require([\"plotly\"], function(Plotly) {                    window.PLOTLYENV=window.PLOTLYENV || {};                                    if (document.getElementById(\"fd6fac1d-8a4e-4520-b16c-1b294c779d2b\")) {                    Plotly.newPlot(                        \"fd6fac1d-8a4e-4520-b16c-1b294c779d2b\",                        [{\"hovertemplate\":\"variable=ac_train<br>fold=%{x}<br>value=%{y}<extra></extra>\",\"legendgroup\":\"ac_train\",\"line\":{\"color\":\"#636efa\",\"dash\":\"solid\"},\"marker\":{\"symbol\":\"circle\"},\"mode\":\"lines\",\"name\":\"ac_train\",\"orientation\":\"v\",\"showlegend\":true,\"x\":[0,1,2,3,4,5,6,7,8,9],\"xaxis\":\"x\",\"y\":[0.8015,0.8029,0.8043,0.8047,0.8034,0.8059,0.8069,0.8064,0.8071,0.8041],\"yaxis\":\"y\",\"type\":\"scatter\"},{\"hovertemplate\":\"variable=ac_valid<br>fold=%{x}<br>value=%{y}<extra></extra>\",\"legendgroup\":\"ac_valid\",\"line\":{\"color\":\"#EF553B\",\"dash\":\"solid\"},\"marker\":{\"symbol\":\"circle\"},\"mode\":\"lines\",\"name\":\"ac_valid\",\"orientation\":\"v\",\"showlegend\":true,\"x\":[0,1,2,3,4,5,6,7,8,9],\"xaxis\":\"x\",\"y\":[0.823,0.808,0.8023,0.7779,0.8044,0.7952,0.7687,0.7791,0.7664,0.8009],\"yaxis\":\"y\",\"type\":\"scatter\"}],                        {\"template\":{\"data\":{\"histogram2dcontour\":[{\"type\":\"histogram2dcontour\",\"colorbar\":{\"outlinewidth\":0,\"ticks\":\"\"},\"colorscale\":[[0.0,\"#0d0887\"],[0.1111111111111111,\"#46039f\"],[0.2222222222222222,\"#7201a8\"],[0.3333333333333333,\"#9c179e\"],[0.4444444444444444,\"#bd3786\"],[0.5555555555555556,\"#d8576b\"],[0.6666666666666666,\"#ed7953\"],[0.7777777777777778,\"#fb9f3a\"],[0.8888888888888888,\"#fdca26\"],[1.0,\"#f0f921\"]]}],\"choropleth\":[{\"type\":\"choropleth\",\"colorbar\":{\"outlinewidth\":0,\"ticks\":\"\"}}],\"histogram2d\":[{\"type\":\"histogram2d\",\"colorbar\":{\"outlinewidth\":0,\"ticks\":\"\"},\"colorscale\":[[0.0,\"#0d0887\"],[0.1111111111111111,\"#46039f\"],[0.2222222222222222,\"#7201a8\"],[0.3333333333333333,\"#9c179e\"],[0.4444444444444444,\"#bd3786\"],[0.5555555555555556,\"#d8576b\"],[0.6666666666666666,\"#ed7953\"],[0.7777777777777778,\"#fb9f3a\"],[0.8888888888888888,\"#fdca26\"],[1.0,\"#f0f921\"]]}],\"heatmap\":[{\"type\":\"heatmap\",\"colorbar\":{\"outlinewidth\":0,\"ticks\":\"\"},\"colorscale\":[[0.0,\"#0d0887\"],[0.1111111111111111,\"#46039f\"],[0.2222222222222222,\"#7201a8\"],[0.3333333333333333,\"#9c179e\"],[0.4444444444444444,\"#bd3786\"],[0.5555555555555556,\"#d8576b\"],[0.6666666666666666,\"#ed7953\"],[0.7777777777777778,\"#fb9f3a\"],[0.8888888888888888,\"#fdca26\"],[1.0,\"#f0f921\"]]}],\"heatmapgl\":[{\"type\":\"heatmapgl\",\"colorbar\":{\"outlinewidth\":0,\"ticks\":\"\"},\"colorscale\":[[0.0,\"#0d0887\"],[0.1111111111111111,\"#46039f\"],[0.2222222222222222,\"#7201a8\"],[0.3333333333333333,\"#9c179e\"],[0.4444444444444444,\"#bd3786\"],[0.5555555555555556,\"#d8576b\"],[0.6666666666666666,\"#ed7953\"],[0.7777777777777778,\"#fb9f3a\"],[0.8888888888888888,\"#fdca26\"],[1.0,\"#f0f921\"]]}],\"contourcarpet\":[{\"type\":\"contourcarpet\",\"colorbar\":{\"outlinewidth\":0,\"ticks\":\"\"}}],\"contour\":[{\"type\":\"contour\",\"colorbar\":{\"outlinewidth\":0,\"ticks\":\"\"},\"colorscale\":[[0.0,\"#0d0887\"],[0.1111111111111111,\"#46039f\"],[0.2222222222222222,\"#7201a8\"],[0.3333333333333333,\"#9c179e\"],[0.4444444444444444,\"#bd3786\"],[0.5555555555555556,\"#d8576b\"],[0.6666666666666666,\"#ed7953\"],[0.7777777777777778,\"#fb9f3a\"],[0.8888888888888888,\"#fdca26\"],[1.0,\"#f0f921\"]]}],\"surface\":[{\"type\":\"surface\",\"colorbar\":{\"outlinewidth\":0,\"ticks\":\"\"},\"colorscale\":[[0.0,\"#0d0887\"],[0.1111111111111111,\"#46039f\"],[0.2222222222222222,\"#7201a8\"],[0.3333333333333333,\"#9c179e\"],[0.4444444444444444,\"#bd3786\"],[0.5555555555555556,\"#d8576b\"],[0.6666666666666666,\"#ed7953\"],[0.7777777777777778,\"#fb9f3a\"],[0.8888888888888888,\"#fdca26\"],[1.0,\"#f0f921\"]]}],\"mesh3d\":[{\"type\":\"mesh3d\",\"colorbar\":{\"outlinewidth\":0,\"ticks\":\"\"}}],\"scatter\":[{\"fillpattern\":{\"fillmode\":\"overlay\",\"size\":10,\"solidity\":0.2},\"type\":\"scatter\"}],\"parcoords\":[{\"type\":\"parcoords\",\"line\":{\"colorbar\":{\"outlinewidth\":0,\"ticks\":\"\"}}}],\"scatterpolargl\":[{\"type\":\"scatterpolargl\",\"marker\":{\"colorbar\":{\"outlinewidth\":0,\"ticks\":\"\"}}}],\"bar\":[{\"error_x\":{\"color\":\"#2a3f5f\"},\"error_y\":{\"color\":\"#2a3f5f\"},\"marker\":{\"line\":{\"color\":\"#E5ECF6\",\"width\":0.5},\"pattern\":{\"fillmode\":\"overlay\",\"size\":10,\"solidity\":0.2}},\"type\":\"bar\"}],\"scattergeo\":[{\"type\":\"scattergeo\",\"marker\":{\"colorbar\":{\"outlinewidth\":0,\"ticks\":\"\"}}}],\"scatterpolar\":[{\"type\":\"scatterpolar\",\"marker\":{\"colorbar\":{\"outlinewidth\":0,\"ticks\":\"\"}}}],\"histogram\":[{\"marker\":{\"pattern\":{\"fillmode\":\"overlay\",\"size\":10,\"solidity\":0.2}},\"type\":\"histogram\"}],\"scattergl\":[{\"type\":\"scattergl\",\"marker\":{\"colorbar\":{\"outlinewidth\":0,\"ticks\":\"\"}}}],\"scatter3d\":[{\"type\":\"scatter3d\",\"line\":{\"colorbar\":{\"outlinewidth\":0,\"ticks\":\"\"}},\"marker\":{\"colorbar\":{\"outlinewidth\":0,\"ticks\":\"\"}}}],\"scattermapbox\":[{\"type\":\"scattermapbox\",\"marker\":{\"colorbar\":{\"outlinewidth\":0,\"ticks\":\"\"}}}],\"scatterternary\":[{\"type\":\"scatterternary\",\"marker\":{\"colorbar\":{\"outlinewidth\":0,\"ticks\":\"\"}}}],\"scattercarpet\":[{\"type\":\"scattercarpet\",\"marker\":{\"colorbar\":{\"outlinewidth\":0,\"ticks\":\"\"}}}],\"carpet\":[{\"aaxis\":{\"endlinecolor\":\"#2a3f5f\",\"gridcolor\":\"white\",\"linecolor\":\"white\",\"minorgridcolor\":\"white\",\"startlinecolor\":\"#2a3f5f\"},\"baxis\":{\"endlinecolor\":\"#2a3f5f\",\"gridcolor\":\"white\",\"linecolor\":\"white\",\"minorgridcolor\":\"white\",\"startlinecolor\":\"#2a3f5f\"},\"type\":\"carpet\"}],\"table\":[{\"cells\":{\"fill\":{\"color\":\"#EBF0F8\"},\"line\":{\"color\":\"white\"}},\"header\":{\"fill\":{\"color\":\"#C8D4E3\"},\"line\":{\"color\":\"white\"}},\"type\":\"table\"}],\"barpolar\":[{\"marker\":{\"line\":{\"color\":\"#E5ECF6\",\"width\":0.5},\"pattern\":{\"fillmode\":\"overlay\",\"size\":10,\"solidity\":0.2}},\"type\":\"barpolar\"}],\"pie\":[{\"automargin\":true,\"type\":\"pie\"}]},\"layout\":{\"autotypenumbers\":\"strict\",\"colorway\":[\"#636efa\",\"#EF553B\",\"#00cc96\",\"#ab63fa\",\"#FFA15A\",\"#19d3f3\",\"#FF6692\",\"#B6E880\",\"#FF97FF\",\"#FECB52\"],\"font\":{\"color\":\"#2a3f5f\"},\"hovermode\":\"closest\",\"hoverlabel\":{\"align\":\"left\"},\"paper_bgcolor\":\"white\",\"plot_bgcolor\":\"#E5ECF6\",\"polar\":{\"bgcolor\":\"#E5ECF6\",\"angularaxis\":{\"gridcolor\":\"white\",\"linecolor\":\"white\",\"ticks\":\"\"},\"radialaxis\":{\"gridcolor\":\"white\",\"linecolor\":\"white\",\"ticks\":\"\"}},\"ternary\":{\"bgcolor\":\"#E5ECF6\",\"aaxis\":{\"gridcolor\":\"white\",\"linecolor\":\"white\",\"ticks\":\"\"},\"baxis\":{\"gridcolor\":\"white\",\"linecolor\":\"white\",\"ticks\":\"\"},\"caxis\":{\"gridcolor\":\"white\",\"linecolor\":\"white\",\"ticks\":\"\"}},\"coloraxis\":{\"colorbar\":{\"outlinewidth\":0,\"ticks\":\"\"}},\"colorscale\":{\"sequential\":[[0.0,\"#0d0887\"],[0.1111111111111111,\"#46039f\"],[0.2222222222222222,\"#7201a8\"],[0.3333333333333333,\"#9c179e\"],[0.4444444444444444,\"#bd3786\"],[0.5555555555555556,\"#d8576b\"],[0.6666666666666666,\"#ed7953\"],[0.7777777777777778,\"#fb9f3a\"],[0.8888888888888888,\"#fdca26\"],[1.0,\"#f0f921\"]],\"sequentialminus\":[[0.0,\"#0d0887\"],[0.1111111111111111,\"#46039f\"],[0.2222222222222222,\"#7201a8\"],[0.3333333333333333,\"#9c179e\"],[0.4444444444444444,\"#bd3786\"],[0.5555555555555556,\"#d8576b\"],[0.6666666666666666,\"#ed7953\"],[0.7777777777777778,\"#fb9f3a\"],[0.8888888888888888,\"#fdca26\"],[1.0,\"#f0f921\"]],\"diverging\":[[0,\"#8e0152\"],[0.1,\"#c51b7d\"],[0.2,\"#de77ae\"],[0.3,\"#f1b6da\"],[0.4,\"#fde0ef\"],[0.5,\"#f7f7f7\"],[0.6,\"#e6f5d0\"],[0.7,\"#b8e186\"],[0.8,\"#7fbc41\"],[0.9,\"#4d9221\"],[1,\"#276419\"]]},\"xaxis\":{\"gridcolor\":\"white\",\"linecolor\":\"white\",\"ticks\":\"\",\"title\":{\"standoff\":15},\"zerolinecolor\":\"white\",\"automargin\":true,\"zerolinewidth\":2},\"yaxis\":{\"gridcolor\":\"white\",\"linecolor\":\"white\",\"ticks\":\"\",\"title\":{\"standoff\":15},\"zerolinecolor\":\"white\",\"automargin\":true,\"zerolinewidth\":2},\"scene\":{\"xaxis\":{\"backgroundcolor\":\"#E5ECF6\",\"gridcolor\":\"white\",\"linecolor\":\"white\",\"showbackground\":true,\"ticks\":\"\",\"zerolinecolor\":\"white\",\"gridwidth\":2},\"yaxis\":{\"backgroundcolor\":\"#E5ECF6\",\"gridcolor\":\"white\",\"linecolor\":\"white\",\"showbackground\":true,\"ticks\":\"\",\"zerolinecolor\":\"white\",\"gridwidth\":2},\"zaxis\":{\"backgroundcolor\":\"#E5ECF6\",\"gridcolor\":\"white\",\"linecolor\":\"white\",\"showbackground\":true,\"ticks\":\"\",\"zerolinecolor\":\"white\",\"gridwidth\":2}},\"shapedefaults\":{\"line\":{\"color\":\"#2a3f5f\"}},\"annotationdefaults\":{\"arrowcolor\":\"#2a3f5f\",\"arrowhead\":0,\"arrowwidth\":1},\"geo\":{\"bgcolor\":\"white\",\"landcolor\":\"#E5ECF6\",\"subunitcolor\":\"white\",\"showland\":true,\"showlakes\":true,\"lakecolor\":\"white\"},\"title\":{\"x\":0.05},\"mapbox\":{\"style\":\"light\"}}},\"xaxis\":{\"anchor\":\"y\",\"domain\":[0.0,1.0],\"title\":{\"text\":\"fold\"}},\"yaxis\":{\"anchor\":\"x\",\"domain\":[0.0,1.0],\"title\":{\"text\":\"value\"}},\"legend\":{\"title\":{\"text\":\"variable\"},\"tracegroupgap\":0},\"margin\":{\"t\":60}},                        {\"responsive\": true}                    ).then(function(){\n",
       "                            \n",
       "var gd = document.getElementById('fd6fac1d-8a4e-4520-b16c-1b294c779d2b');\n",
       "var x = new MutationObserver(function (mutations, observer) {{\n",
       "        var display = window.getComputedStyle(gd).display;\n",
       "        if (!display || display === 'none') {{\n",
       "            console.log([gd, 'removed!']);\n",
       "            Plotly.purge(gd);\n",
       "            observer.disconnect();\n",
       "        }}\n",
       "}});\n",
       "\n",
       "// Listen for the removal of the full notebook cells\n",
       "var notebookContainer = gd.closest('#notebook-container');\n",
       "if (notebookContainer) {{\n",
       "    x.observe(notebookContainer, {childList: true});\n",
       "}}\n",
       "\n",
       "// Listen for the clearing of the current output cell\n",
       "var outputEl = gd.closest('.output');\n",
       "if (outputEl) {{\n",
       "    x.observe(outputEl, {childList: true});\n",
       "}}\n",
       "\n",
       "                        })                };                });            </script>        </div>"
      ]
     },
     "metadata": {},
     "output_type": "display_data"
    }
   ],
   "source": [
    "# cross validation and Randomforest ensemble(like a shortcut of using bagging classifier and Decision tree as a base estimator)\n",
    "\n",
    "cv=10\n",
    "metric = []\n",
    "accu_tr_list= list()\n",
    "accu_te_list = list()\n",
    "\n",
    "kfold = KFold(n_splits=cv,random_state=52,shuffle=True)\n",
    "for idx,(train_idx, val_idx) in enumerate(kfold.split(train)):\n",
    "    xtrain, xvalid = X.loc[train_idx], X.loc[val_idx]\n",
    "    ytrain, yvalid = y.loc[train_idx], y.loc[val_idx]\n",
    "    \n",
    "    #initializing a model\n",
    "    global rand_clf\n",
    "    rand_clf = RandomForestClassifier(max_depth=534,random_state=42,max_samples=0.5,\n",
    "                                      max_leaf_nodes=29,n_estimators=218,bootstrap=True)\n",
    "    rand_clf.fit(xtrain,ytrain)\n",
    "    pred_train= rand_clf.predict(xtrain)\n",
    "    preds = rand_clf.predict(xvalid)\n",
    "    #evaluation metric\n",
    "    accuracy_train = accuracy_score(ytrain,pred_train)\n",
    "    accuracy = accuracy_score(yvalid,preds)\n",
    "    metric.append(accuracy)\n",
    "    accu_tr_list.append(accuracy_train)\n",
    "    accu_te_list.append(accuracy)\n",
    "    print(f\"accuracy in fold:{idx} is: {accuracy} and in train_set is : {accuracy_train}\")\n",
    "    \n",
    "print(f\"mean accuracy in {cv}folds is: {np.mean(metric)}\") \n",
    "\n",
    "# plotting the accuracy in each fold\n",
    "acc_df = pd.DataFrame({'fold':np.arange(cv),'ac_train':np.around(np.array(accu_tr_list),4),\n",
    "                       'ac_valid':np.around(np.array(accu_te_list),4)})\n",
    "\n",
    "fig = px.line(acc_df,x='fold',y=acc_df.columns[1:])\n",
    "fig.show()\n"
   ]
  },
  {
   "cell_type": "markdown",
   "id": "9639149d",
   "metadata": {
    "papermill": {
     "duration": 0.02704,
     "end_time": "2023-01-22T11:28:16.964522",
     "exception": false,
     "start_time": "2023-01-22T11:28:16.937482",
     "status": "completed"
    },
    "tags": []
   },
   "source": [
    "Randomized search cv so far helped find best performance.\n",
    "BaysianSearchCV have beaten the RandomizedSearchCV and it searched the hyperparameters performed best in final score(0.79752) in 10 folds"
   ]
  },
  {
   "cell_type": "code",
   "execution_count": 45,
   "id": "2a9d036e",
   "metadata": {
    "execution": {
     "iopub.execute_input": "2023-01-22T11:28:17.021318Z",
     "iopub.status.busy": "2023-01-22T11:28:17.020821Z",
     "iopub.status.idle": "2023-01-22T11:28:17.026441Z",
     "shell.execute_reply": "2023-01-22T11:28:17.025230Z"
    },
    "papermill": {
     "duration": 0.036646,
     "end_time": "2023-01-22T11:28:17.028635",
     "exception": false,
     "start_time": "2023-01-22T11:28:16.991989",
     "status": "completed"
    },
    "tags": []
   },
   "outputs": [],
   "source": [
    "#baysian optimization\n",
    "# n_iter = 100\n",
    "\n",
    "# parameters = {'max_depth':(50,1000), \n",
    "#               'max_samples': (0.5,1.0,\"log-uniform\"), \n",
    "#               'n_estimators':(50,500), \n",
    "#               'max_leaf_nodes':(5,30)\n",
    "#               }\n",
    "\n",
    "# model = ExtraTreesClassifier(random_state=42,bootstrap=True)\n",
    "# Search = BayesSearchCV(model, parameters,n_iter=n_iter, scoring= 'accuracy', n_jobs=-1, \n",
    "#                      cv=5,verbose=0).fit(X,y)\n",
    "\n",
    "# cv_results = pd.DataFrame(data= Search.cv_results_,columns= list(parameters.keys()))\n",
    "# optimal_parameters = Search.best_params_\n",
    "# print(\"Optimal Parameters:\",optimal_parameters)"
   ]
  },
  {
   "cell_type": "markdown",
   "id": "899d333e",
   "metadata": {
    "papermill": {
     "duration": 0.027039,
     "end_time": "2023-01-22T11:28:17.082868",
     "exception": false,
     "start_time": "2023-01-22T11:28:17.055829",
     "status": "completed"
    },
    "tags": []
   },
   "source": [
    "# 3.ExtraTreeClassifier"
   ]
  },
  {
   "cell_type": "code",
   "execution_count": 46,
   "id": "7fcdf0dc",
   "metadata": {
    "execution": {
     "iopub.execute_input": "2023-01-22T11:28:17.139885Z",
     "iopub.status.busy": "2023-01-22T11:28:17.139137Z",
     "iopub.status.idle": "2023-01-22T11:28:17.145569Z",
     "shell.execute_reply": "2023-01-22T11:28:17.144361Z"
    },
    "papermill": {
     "duration": 0.037383,
     "end_time": "2023-01-22T11:28:17.147728",
     "exception": false,
     "start_time": "2023-01-22T11:28:17.110345",
     "status": "completed"
    },
    "tags": []
   },
   "outputs": [],
   "source": [
    "# ExtraTreeClassifier(almost same like Randomforest,just more randomized than Randomforest model. In this algorithm, the threshold in feature \n",
    "# splitting is random than best, see in decision tree documentation a parameter named, 'splitter'. In RandomForest,this Decision tree \n",
    "# parameter is set to 'best' by default and in Extratree it is set to 'random')\n",
    "\n",
    "# cv=10\n",
    "# metric = []\n",
    "# accu_tr_list= list()\n",
    "# accu_te_list = list()\n",
    "\n",
    "# kfold = KFold(n_splits=cv,random_state=42,shuffle=True)\n",
    "# for idx,(train_idx, val_idx) in enumerate(kfold.split(train)):\n",
    "#     xtrain, xvalid = X.loc[train_idx], X.loc[val_idx]\n",
    "#     ytrain, yvalid = y.loc[train_idx], y.loc[val_idx]\n",
    "    \n",
    "#     #initializing a model\n",
    "#     et_clf = ExtraTreesClassifier(max_depth=1000,random_state=42,bootstrap=True,\n",
    "#                                       max_leaf_nodes=30,n_estimators=50,max_samples=.85)\n",
    "#     et_clf.fit(xtrain,ytrain)\n",
    "#     pred_train= et_clf.predict(xtrain)\n",
    "#     preds = et_clf.predict(xvalid)\n",
    "#     #evaluation metric\n",
    "#     accuracy_train = accuracy_score(ytrain,pred_train)\n",
    "#     accuracy = accuracy_score(yvalid,preds)\n",
    "#     metric.append(accuracy)\n",
    "#     accu_tr_list.append(accuracy_train)\n",
    "#     accu_te_list.append(accuracy)\n",
    "#     print(f\"accuracy in fold:{idx} is: {accuracy} and in train_set is : {accuracy_train}\")\n",
    "    \n",
    "# print(f\"mean accuracy in {cv}folds is: {np.mean(metric)}\") \n",
    "\n",
    "# # plotting the accuracy in each fold\n",
    "# acc_df = pd.DataFrame({'fold':np.arange(cv),'ac_train':np.around(np.array(accu_tr_list),4),\n",
    "#                        'ac_valid':np.around(np.array(accu_te_list),4)})\n",
    "\n",
    "# fig = px.line(acc_df,x='fold',y=acc_df.columns[1:])\n",
    "# fig.show()\n"
   ]
  },
  {
   "cell_type": "markdown",
   "id": "fcf2ce4f",
   "metadata": {
    "papermill": {
     "duration": 0.026997,
     "end_time": "2023-01-22T11:28:17.201909",
     "exception": false,
     "start_time": "2023-01-22T11:28:17.174912",
     "status": "completed"
    },
    "tags": []
   },
   "source": [
    "ExtraTreeClassifier haven't performed better than RandomForest Classifier."
   ]
  },
  {
   "cell_type": "markdown",
   "id": "d108d9be",
   "metadata": {
    "papermill": {
     "duration": 0.027875,
     "end_time": "2023-01-22T11:28:17.257513",
     "exception": false,
     "start_time": "2023-01-22T11:28:17.229638",
     "status": "completed"
    },
    "tags": []
   },
   "source": [
    "# 4. AdaBoostClassifier"
   ]
  },
  {
   "cell_type": "code",
   "execution_count": 47,
   "id": "543a8755",
   "metadata": {
    "execution": {
     "iopub.execute_input": "2023-01-22T11:28:17.314653Z",
     "iopub.status.busy": "2023-01-22T11:28:17.313886Z",
     "iopub.status.idle": "2023-01-22T11:28:17.320479Z",
     "shell.execute_reply": "2023-01-22T11:28:17.319615Z"
    },
    "papermill": {
     "duration": 0.037976,
     "end_time": "2023-01-22T11:28:17.322761",
     "exception": false,
     "start_time": "2023-01-22T11:28:17.284785",
     "status": "completed"
    },
    "tags": []
   },
   "outputs": [],
   "source": [
    "#AdaBoost with DecisionTreeClassifier as base estimator(here we are using our optimized DecisionTree Classifier,\n",
    "# used previously in notebook)\n",
    "\n",
    "\n",
    "\n",
    "# cv=10\n",
    "# metric = []\n",
    "# accu_tr_list= list()\n",
    "# accu_te_list = list()\n",
    "\n",
    "# kfold = KFold(n_splits=cv,random_state=42,shuffle=True)\n",
    "# for idx,(train_idx, val_idx) in enumerate(kfold.split(train)):\n",
    "#     xtrain, xvalid = X.loc[train_idx], X.loc[val_idx]\n",
    "#     ytrain, yvalid = y.loc[train_idx], y.loc[val_idx]\n",
    "    \n",
    "    #initializing a model\n",
    "#     tree_model = DecisionTreeClassifier(max_depth=50,\n",
    "#                                         min_samples_split=2,\n",
    "#                                         min_samples_leaf=2,\n",
    "#                                         min_weight_fraction_leaf=0.0,\n",
    "#                                         random_state=42,\n",
    "#                                         max_leaf_nodes=8,\n",
    "#                                         class_weight=None\n",
    "#                                          ) \n",
    "#     ada_clf = AdaBoostClassifier(tree_model,algorithm='SAMME.R',\n",
    "#                                  n_estimators=50,\n",
    "#                                  learning_rate=0.02)\n",
    "#     ada_clf.fit(xtrain,ytrain)\n",
    "#     pred_train= ada_clf.predict(xtrain)\n",
    "#     preds = ada_clf.predict(xvalid)\n",
    "#     #evaluation metric\n",
    "#     accuracy_train = accuracy_score(ytrain,pred_train)\n",
    "#     accuracy = accuracy_score(yvalid,preds)\n",
    "#     metric.append(accuracy)\n",
    "#     accu_tr_list.append(accuracy_train)\n",
    "#     accu_te_list.append(accuracy)\n",
    "#     print(f\"accuracy in fold:{idx} is: {accuracy} and in train_set is : {accuracy_train}\")\n",
    "    \n",
    "# print(f\"mean accuracy in {cv}folds is: {np.mean(metric)}\") \n",
    "\n",
    "# # plotting the accuracy in each fold\n",
    "# acc_df = pd.DataFrame({'fold':np.arange(cv),'ac_train':np.around(np.array(accu_tr_list),4),\n",
    "#                        'ac_valid':np.around(np.array(accu_te_list),4)})\n",
    "\n",
    "# fig = px.line(acc_df,x='fold',y=acc_df.columns[1:])\n",
    "# fig.show()\n",
    "\n"
   ]
  },
  {
   "cell_type": "markdown",
   "id": "dbf76e2d",
   "metadata": {
    "papermill": {
     "duration": 0.026952,
     "end_time": "2023-01-22T11:28:17.376810",
     "exception": false,
     "start_time": "2023-01-22T11:28:17.349858",
     "status": "completed"
    },
    "tags": []
   },
   "source": [
    "**Here Adaboost with base_estimator as DecisionTreeClassifier is performing better in accuracy but at submission it is performing worse than \n",
    "RandomForestClassifier, so for now RandomForest ensemble is still best performer.**"
   ]
  },
  {
   "cell_type": "markdown",
   "id": "6e621798",
   "metadata": {
    "papermill": {
     "duration": 0.027151,
     "end_time": "2023-01-22T11:28:17.431074",
     "exception": false,
     "start_time": "2023-01-22T11:28:17.403923",
     "status": "completed"
    },
    "tags": []
   },
   "source": [
    "# 5. GradientBoosting"
   ]
  },
  {
   "cell_type": "markdown",
   "id": "6be81b9b",
   "metadata": {
    "papermill": {
     "duration": 0.027165,
     "end_time": "2023-01-22T11:28:17.485708",
     "exception": false,
     "start_time": "2023-01-22T11:28:17.458543",
     "status": "completed"
    },
    "tags": []
   },
   "source": [
    "sklearn provides gradient boosting algorithm, for large datasets(>10000) [HistGradientBoosting](https://scikit-learn.org/stable/modules/generated/sklearn.ensemble.HistGradientBoostingClassifier.html#sklearn.ensemble.HistGradientBoostingClassifier) is fast but our dataset is not large so [GradientBoosting](https://scikit-learn.org/stable/modules/generated/sklearn.ensemble.GradientBoostingClassifier.html#sklearn.ensemble.GradientBoostingClassifier)  will be enough."
   ]
  },
  {
   "cell_type": "code",
   "execution_count": 48,
   "id": "0f4d29be",
   "metadata": {
    "execution": {
     "iopub.execute_input": "2023-01-22T11:28:17.543547Z",
     "iopub.status.busy": "2023-01-22T11:28:17.542814Z",
     "iopub.status.idle": "2023-01-22T11:28:17.548401Z",
     "shell.execute_reply": "2023-01-22T11:28:17.547451Z"
    },
    "papermill": {
     "duration": 0.037616,
     "end_time": "2023-01-22T11:28:17.550822",
     "exception": false,
     "start_time": "2023-01-22T11:28:17.513206",
     "status": "completed"
    },
    "tags": []
   },
   "outputs": [],
   "source": [
    "#baysian optimization(finding parameters values that gives optimal performance to the model)\n",
    "\n",
    "# n_iter = 100\n",
    "\n",
    "# parameters = {'max_depth':(50,1000), \n",
    "#               'learning_rate': (.01, 0.1,'log-uniform'), \n",
    "#               'n_estimators':(50,500), \n",
    "#               'max_leaf_nodes':(2,20),\n",
    "#               'min_samples_split':(2,4)\n",
    "#               }\n",
    "\n",
    "# model = GradientBoostingClassifier(random_state=42)\n",
    "# Search = BayesSearchCV(model, parameters,n_iter=n_iter, scoring= 'accuracy', n_jobs=-1, \n",
    "#                      cv=5,verbose=0).fit(X,y)\n",
    "\n",
    "# cv_results = pd.DataFrame(data= Search.cv_results_,columns= list(parameters.keys()))\n",
    "# optimal_parameters = Search.best_params_\n",
    "# print(\"Optimal Parameters:\",optimal_parameters)"
   ]
  },
  {
   "cell_type": "code",
   "execution_count": 49,
   "id": "6aec494f",
   "metadata": {
    "execution": {
     "iopub.execute_input": "2023-01-22T11:28:17.608737Z",
     "iopub.status.busy": "2023-01-22T11:28:17.607980Z",
     "iopub.status.idle": "2023-01-22T11:28:17.614224Z",
     "shell.execute_reply": "2023-01-22T11:28:17.613362Z"
    },
    "papermill": {
     "duration": 0.037435,
     "end_time": "2023-01-22T11:28:17.616352",
     "exception": false,
     "start_time": "2023-01-22T11:28:17.578917",
     "status": "completed"
    },
    "tags": []
   },
   "outputs": [],
   "source": [
    "#gradient boosting\n",
    "\n",
    "# cv=10\n",
    "# metric = []\n",
    "# accu_tr_list= list()\n",
    "# accu_te_list = list()\n",
    "\n",
    "# kfold = KFold(n_splits=cv,random_state=42,shuffle=True)\n",
    "# for idx,(train_idx, val_idx) in enumerate(kfold.split(train)):\n",
    "#     xtrain, xvalid = X.loc[train_idx], X.loc[val_idx]\n",
    "#     ytrain, yvalid = y.loc[train_idx], y.loc[val_idx]\n",
    "    \n",
    "#     #initializing a model\n",
    "#     grad_clf = GradientBoostingClassifier(max_depth=50,\n",
    "#                                         min_samples_split=4,\n",
    "#                                         min_samples_leaf=2,\n",
    "#                                         min_weight_fraction_leaf=0.0,\n",
    "#                                         random_state=42,\n",
    "#                                         max_leaf_nodes=9,\n",
    "#                                         n_estimators=50,\n",
    "#                                         learning_rate=0.012870969735418545  \n",
    "#                                         )\n",
    "#     grad_clf.fit(xtrain,ytrain)\n",
    "#     pred_train= grad_clf.predict(xtrain)\n",
    "#     preds = grad_clf.predict(xvalid)\n",
    "#     #evaluation metric\n",
    "#     accuracy_train = accuracy_score(ytrain,pred_train)\n",
    "#     accuracy = accuracy_score(yvalid,preds)\n",
    "#     metric.append(accuracy)\n",
    "#     accu_tr_list.append(accuracy_train)\n",
    "#     accu_te_list.append(accuracy)\n",
    "#     print(f\"accuracy in fold:{idx} is: {accuracy} and in train_set is : {accuracy_train}\")\n",
    "    \n",
    "# print(f\"mean accuracy in {cv}folds is: {np.mean(metric)}\") \n",
    "\n",
    "# # plotting the accuracy in each fold\n",
    "# acc_df = pd.DataFrame({'fold':np.arange(cv),'ac_train':np.around(np.array(accu_tr_list),4),\n",
    "#                        'ac_valid':np.around(np.array(accu_te_list),4)})\n",
    "\n",
    "# fig = px.line(acc_df,x='fold',y=acc_df.columns[1:])\n",
    "# fig.show()\n"
   ]
  },
  {
   "cell_type": "code",
   "execution_count": 50,
   "id": "bfd636a5",
   "metadata": {
    "execution": {
     "iopub.execute_input": "2023-01-22T11:28:17.672956Z",
     "iopub.status.busy": "2023-01-22T11:28:17.672215Z",
     "iopub.status.idle": "2023-01-22T11:28:17.678164Z",
     "shell.execute_reply": "2023-01-22T11:28:17.677321Z"
    },
    "papermill": {
     "duration": 0.03661,
     "end_time": "2023-01-22T11:28:17.680286",
     "exception": false,
     "start_time": "2023-01-22T11:28:17.643676",
     "status": "completed"
    },
    "tags": []
   },
   "outputs": [],
   "source": [
    "# cv=10\n",
    "# metric = []\n",
    "# accu_tr_list= list()\n",
    "# accu_te_list = list()\n",
    "\n",
    "# kfold = KFold(n_splits=cv,random_state=42,shuffle=True)\n",
    "# for idx,(train_idx, val_idx) in enumerate(kfold.split(train)):\n",
    "#     xtrain, xvalid = X.loc[train_idx], X.loc[val_idx]\n",
    "#     ytrain, yvalid = y.loc[train_idx], y.loc[val_idx]\n",
    "    \n",
    "#     #initializing a model\n",
    "#     grad_clf = HistGradientBoostingClassifier(max_depth=5,\n",
    "#                                         min_samples_leaf=2,\n",
    "#                                         random_state=42,\n",
    "#                                         max_leaf_nodes=9,\n",
    "#                                         learning_rate=0.012 \n",
    "#                                         )\n",
    "#     grad_clf.fit(xtrain,ytrain)\n",
    "#     pred_train= grad_clf.predict(xtrain)\n",
    "#     preds = grad_clf.predict(xvalid)\n",
    "#     #evaluation metric\n",
    "#     accuracy_train = accuracy_score(ytrain,pred_train)\n",
    "#     accuracy = accuracy_score(yvalid,preds)\n",
    "#     metric.append(accuracy)\n",
    "#     accu_tr_list.append(accuracy_train)\n",
    "#     accu_te_list.append(accuracy)\n",
    "#     print(f\"accuracy in fold:{idx} is: {accuracy} and in train_set is : {accuracy_train}\")\n",
    "    \n",
    "# print(f\"mean accuracy in {cv}folds is: {np.mean(metric)}\") \n",
    "\n",
    "# # plotting the accuracy in each fold\n",
    "# acc_df = pd.DataFrame({'fold':np.arange(cv),'ac_train':np.around(np.array(accu_tr_list),4),\n",
    "#                        'ac_valid':np.around(np.array(accu_te_list),4)})\n",
    "\n",
    "# fig = px.line(acc_df,x='fold',y=acc_df.columns[1:])\n",
    "# fig.show()\n"
   ]
  },
  {
   "cell_type": "markdown",
   "id": "f48593ef",
   "metadata": {
    "papermill": {
     "duration": 0.026786,
     "end_time": "2023-01-22T11:28:17.735618",
     "exception": false,
     "start_time": "2023-01-22T11:28:17.708832",
     "status": "completed"
    },
    "tags": []
   },
   "source": [
    "# 6.Stacking_1(LogisticRegresion, LinearSVC,DecisionTree)\n"
   ]
  },
  {
   "cell_type": "markdown",
   "id": "0fd49e64",
   "metadata": {
    "papermill": {
     "duration": 0.026463,
     "end_time": "2023-01-22T11:28:17.789233",
     "exception": false,
     "start_time": "2023-01-22T11:28:17.762770",
     "status": "completed"
    },
    "tags": []
   },
   "source": [
    "So far we have tried LogisticRegression, SVC, DecisionTreeClassifier, BaggingClassifier,RandomForestClassifier,ExtraTreeClassifier and \n",
    "Gradient boosting and RandomForest was among them best performer was RandomForestClassifier after optimization with the help of BeyesianSearchCV. We have left one ensemble mathod which will combine some models and make prediction on prediction of those predictors,\n",
    "It is called Stacking. I will combine LogisticRegression, LinearSVC and DecisionTreeClassifier as learners(which themselves are optimized individually) are  and RandomForest as Meta Learner in the process of stacking. If you want to check what is stacking, this [video](https://youtu.be/xtTyEoJ31Vg) is good, it helped me and might help you. "
   ]
  },
  {
   "cell_type": "code",
   "execution_count": 51,
   "id": "858b1f05",
   "metadata": {
    "execution": {
     "iopub.execute_input": "2023-01-22T11:28:17.845784Z",
     "iopub.status.busy": "2023-01-22T11:28:17.845036Z",
     "iopub.status.idle": "2023-01-22T11:28:17.850963Z",
     "shell.execute_reply": "2023-01-22T11:28:17.850138Z"
    },
    "papermill": {
     "duration": 0.03695,
     "end_time": "2023-01-22T11:28:17.853117",
     "exception": false,
     "start_time": "2023-01-22T11:28:17.816167",
     "status": "completed"
    },
    "tags": []
   },
   "outputs": [],
   "source": [
    "# cv=10\n",
    "# clf1 = LogisticRegression(penalty='l2',C=10,max_iter=1000,solver='liblinear')\n",
    "# clf2 = LinearSVC(C=5,dual=False)\n",
    "# clf3_3 = DecisionTreeClassifier(max_depth=50,\n",
    "#                               min_samples_split=2,\n",
    "#                               min_samples_leaf=2,\n",
    "#                               min_weight_fraction_leaf=0.0,\n",
    "#                               random_state=42,\n",
    "#                               max_leaf_nodes=8,\n",
    "#                                         )\n",
    "                                         \n",
    "# m_clf = RandomForestClassifier(max_depth=534,random_state=42,max_samples=0.5,\n",
    "#                                       max_leaf_nodes=29,n_estimators=218,bootstrap=True)\n",
    "# sclf_first = StackingClassifier(classifiers=[clf1,clf2,clf3_3],\n",
    "#                              meta_classifier=m_clf)\n",
    "# ac = list()\n",
    "# for clf,label in zip([clf1,clf2,clf3_3,sclf_first],\n",
    "#                      ['Logistic Regression','LinearSVC,','DecisionTreeClassifier','StackingClassifier']):\n",
    "    \n",
    "#     kfold = KFold(n_splits=cv,random_state=42,shuffle=True)\n",
    "#     for idx,(train_idx, val_idx) in enumerate(kfold.split(train)):\n",
    "#         xtrain, xvalid = X.loc[train_idx], X.loc[val_idx]\n",
    "#         ytrain, yvalid = y.loc[train_idx], y.loc[val_idx]\n",
    "\n",
    "#         #initializing a model\n",
    "#         clf.fit(xtrain,ytrain)\n",
    "#         preds = clf.predict(xvalid)\n",
    "#         #evaluation metric\n",
    "#         accuracy = accuracy_score(yvalid,preds)\n",
    "#         ac.append(accuracy)\n",
    "#     print(f\"Accuracy in {label}: {mean(ac)}\")\n",
    "#     ac.clear()    \n",
    "\n",
    "\n",
    "\n"
   ]
  },
  {
   "cell_type": "markdown",
   "id": "c44e972c",
   "metadata": {
    "papermill": {
     "duration": 0.02657,
     "end_time": "2023-01-22T11:28:17.906508",
     "exception": false,
     "start_time": "2023-01-22T11:28:17.879938",
     "status": "completed"
    },
    "tags": []
   },
   "source": [
    "As we see Stacking mathod perform better than their predecessors.But not as better as RandomForestClassifier"
   ]
  },
  {
   "cell_type": "markdown",
   "id": "6354ffa0",
   "metadata": {
    "papermill": {
     "duration": 0.026735,
     "end_time": "2023-01-22T11:28:17.960217",
     "exception": false,
     "start_time": "2023-01-22T11:28:17.933482",
     "status": "completed"
    },
    "tags": []
   },
   "source": [
    "# 7.Stacking_2(AdaBoost, RandomForest,BaggingClassifier)"
   ]
  },
  {
   "cell_type": "code",
   "execution_count": 52,
   "id": "c4e6140d",
   "metadata": {
    "execution": {
     "iopub.execute_input": "2023-01-22T11:28:18.017319Z",
     "iopub.status.busy": "2023-01-22T11:28:18.016583Z",
     "iopub.status.idle": "2023-01-22T11:28:18.022830Z",
     "shell.execute_reply": "2023-01-22T11:28:18.021913Z"
    },
    "papermill": {
     "duration": 0.037601,
     "end_time": "2023-01-22T11:28:18.025032",
     "exception": false,
     "start_time": "2023-01-22T11:28:17.987431",
     "status": "completed"
    },
    "tags": []
   },
   "outputs": [],
   "source": [
    "# cv=10\n",
    "# clf1 = AdaBoostClassifier(clf3_3,algorithm='SAMME.R',\n",
    "#                                  n_estimators=50,\n",
    "#                                  learning_rate=0.02)\n",
    "# clf2 = RandomForestClassifier(max_depth=534,random_state=42,max_samples=0.5,\n",
    "#                                       max_leaf_nodes=29,n_estimators=218,bootstrap=True)\n",
    "# clf3 = BaggingClassifier(base_estimator=clf3_3, n_estimators=500, \n",
    "#                                 bootstrap=True,max_samples=1000,n_jobs=-1)\n",
    "# m_clf = GradientBoostingClassifier(max_depth=50,\n",
    "#                                         min_samples_split=4,\n",
    "#                                         min_samples_leaf=2,\n",
    "#                                         min_weight_fraction_leaf=0.0,\n",
    "#                                         random_state=42,\n",
    "#                                         max_leaf_nodes=9,\n",
    "#                                         n_estimators=50,\n",
    "#                                         learning_rate=0.012870969735418545  \n",
    "#                                         ) \n",
    "\n",
    "# sclf_second = StackingClassifier(classifiers=[clf1,clf2,clf3],\n",
    "#                              meta_classifier=m_clf)\n",
    "# ac = list()\n",
    "# for clf,label in zip([clf1,clf2,clf3,sclf_second],\n",
    "#                      ['AdaBoostClassifier','RandomForestClassifier,','BaggingClassifier','StackingClassifier']):\n",
    "    \n",
    "#     kfold = KFold(n_splits=cv,random_state=42,shuffle=True)\n",
    "#     for idx,(train_idx, val_idx) in enumerate(kfold.split(train)):\n",
    "#         xtrain, xvalid = X.loc[train_idx], X.loc[val_idx]\n",
    "#         ytrain, yvalid = y.loc[train_idx], y.loc[val_idx]\n",
    "\n",
    "#         #initializing a model\n",
    "#         clf.fit(xtrain,ytrain)\n",
    "#         preds = clf.predict(xvalid)\n",
    "#         #evaluation metric\n",
    "#         accuracy = accuracy_score(yvalid,preds)\n",
    "#         ac.append(accuracy)\n",
    "#     print(f\"Accuracy in {label}: {mean(ac)}\")\n",
    "#     ac.clear()"
   ]
  },
  {
   "cell_type": "markdown",
   "id": "b4df1109",
   "metadata": {
    "papermill": {
     "duration": 0.026734,
     "end_time": "2023-01-22T11:28:18.079386",
     "exception": false,
     "start_time": "2023-01-22T11:28:18.052652",
     "status": "completed"
    },
    "tags": []
   },
   "source": [
    "Seems like no one is going to perform better than RandomForest:))"
   ]
  },
  {
   "cell_type": "markdown",
   "id": "f7b3132a",
   "metadata": {
    "papermill": {
     "duration": 0.02675,
     "end_time": "2023-01-22T11:28:18.133498",
     "exception": false,
     "start_time": "2023-01-22T11:28:18.106748",
     "status": "completed"
    },
    "tags": []
   },
   "source": [
    "# 8. Xgboost+Optuna"
   ]
  },
  {
   "cell_type": "code",
   "execution_count": 53,
   "id": "5a1b1dc4",
   "metadata": {
    "execution": {
     "iopub.execute_input": "2023-01-22T11:28:18.191420Z",
     "iopub.status.busy": "2023-01-22T11:28:18.190651Z",
     "iopub.status.idle": "2023-01-22T11:28:18.196427Z",
     "shell.execute_reply": "2023-01-22T11:28:18.195551Z"
    },
    "papermill": {
     "duration": 0.03675,
     "end_time": "2023-01-22T11:28:18.198628",
     "exception": false,
     "start_time": "2023-01-22T11:28:18.161878",
     "status": "completed"
    },
    "tags": []
   },
   "outputs": [],
   "source": [
    "#optuna\n",
    "# def objective(trial):     \n",
    "#     max_depth = trial.suggest_int('max_depth',50,200)\n",
    "#     sub_samples = trial.suggest_float('sub_samples',0.5,1.0 )\n",
    "#     gamma = trial.suggest_float('gamma',0.1,0.6 )\n",
    "#     reg_alpha = trial.suggest_float('reg_alpha',0.1,0.6 )\n",
    "#     reg_lambda = trial.suggest_float('reg_lambda',0.1,0.6 )\n",
    "#     n_estimators = trial.suggest_int('n_estimators',50,500)\n",
    "\n",
    "#     xgb_clf =XGBClassifier(max_depth=max_depth,random_state=42,sub_samples=sub_samples,\n",
    "#                                       gamma=gamma,n_estimators=n_estimators,reg_alpha=reg_alpha,\n",
    "#                                       reg_lambda=reg_lambda)\n",
    "#     accruacy = cross_val_score(xgb_clf,X,y,cv=5,scoring='accuracy',n_jobs=-1)\n",
    "#     return accuracy\n",
    "\n",
    "    \n",
    "# try:   \n",
    "#     study = optuna.create_study(direction='maximize')\n",
    "#     study.optimize(objective,n_trials=100)\n",
    "#     trial = study.best_trial\n",
    "\n",
    "#     print(f\"Accuracy: {trial.value}\")\n",
    "#     print(f\"best_parameter_combinations: {trial.params}\")\n",
    "\n",
    "#     print(f\"best_parameter_combinations: {trial.params}\")\n",
    "# except:\n",
    "#     raise Exception('this is wrong!!')\n",
    "\n",
    "\n",
    "   "
   ]
  },
  {
   "cell_type": "code",
   "execution_count": 54,
   "id": "f4b012a3",
   "metadata": {
    "execution": {
     "iopub.execute_input": "2023-01-22T11:28:18.255473Z",
     "iopub.status.busy": "2023-01-22T11:28:18.254742Z",
     "iopub.status.idle": "2023-01-22T11:28:18.260354Z",
     "shell.execute_reply": "2023-01-22T11:28:18.259267Z"
    },
    "papermill": {
     "duration": 0.037336,
     "end_time": "2023-01-22T11:28:18.262985",
     "exception": false,
     "start_time": "2023-01-22T11:28:18.225649",
     "status": "completed"
    },
    "tags": []
   },
   "outputs": [],
   "source": [
    "# {\"n_estimators\":392,\n",
    "#           \"subsample\": 1.0,\n",
    "#           'max_depth':188,\n",
    "#           'learning_rate':0.02,\n",
    "#            'gamma':0.15,\n",
    "#            'reg_alpha':0.16,\n",
    "#            'reg_lambda':0.31}\n",
    "\n",
    "# 'learning_rate':0.02,\n",
    "#      'lambda_l1': 1.945,\n",
    "#      'num_leaves': 87,\n",
    "#      'feature_fraction': 0.79,\n",
    "#      'bagging_fraction': 0.93,\n",
    "#      'bagging_freq': 4,\n",
    "#      'min_data_in_leaf': 103,"
   ]
  },
  {
   "cell_type": "code",
   "execution_count": 55,
   "id": "57c52479",
   "metadata": {
    "execution": {
     "iopub.execute_input": "2023-01-22T11:28:18.319594Z",
     "iopub.status.busy": "2023-01-22T11:28:18.319097Z",
     "iopub.status.idle": "2023-01-22T11:28:41.602377Z",
     "shell.execute_reply": "2023-01-22T11:28:41.601270Z"
    },
    "papermill": {
     "duration": 23.314336,
     "end_time": "2023-01-22T11:28:41.604706",
     "exception": false,
     "start_time": "2023-01-22T11:28:18.290370",
     "status": "completed"
    },
    "tags": []
   },
   "outputs": [
    {
     "name": "stdout",
     "output_type": "stream",
     "text": [
      "accuracy in fold:0 is: 0.7908045977011494 and in train_set is : 0.8437939409433721\n",
      "accuracy in fold:1 is: 0.8045977011494253 and in train_set is : 0.8450722229323789\n",
      "accuracy in fold:2 is: 0.8080459770114943 and in train_set is : 0.8463505049213856\n",
      "accuracy in fold:3 is: 0.7986191024165707 and in train_set is : 0.8417689161554193\n",
      "accuracy in fold:4 is: 0.7963176064441887 and in train_set is : 0.8449642126789366\n",
      "accuracy in fold:5 is: 0.8170310701956272 and in train_set is : 0.8408742331288344\n",
      "accuracy in fold:6 is: 0.7974683544303798 and in train_set is : 0.8417689161554193\n",
      "accuracy in fold:7 is: 0.8170310701956272 and in train_set is : 0.8459867075664622\n",
      "accuracy in fold:8 is: 0.7917146144994246 and in train_set is : 0.843941717791411\n",
      "accuracy in fold:9 is: 0.8020713463751439 and in train_set is : 0.843558282208589\n",
      "mean accuracy in 10folds is: 0.8023701440419032\n"
     ]
    },
    {
     "data": {
      "text/html": [
       "<div>                            <div id=\"4cc300e5-e108-4761-a45b-bff8d4630b1f\" class=\"plotly-graph-div\" style=\"height:525px; width:100%;\"></div>            <script type=\"text/javascript\">                require([\"plotly\"], function(Plotly) {                    window.PLOTLYENV=window.PLOTLYENV || {};                                    if (document.getElementById(\"4cc300e5-e108-4761-a45b-bff8d4630b1f\")) {                    Plotly.newPlot(                        \"4cc300e5-e108-4761-a45b-bff8d4630b1f\",                        [{\"hovertemplate\":\"variable=ac_train<br>fold=%{x}<br>value=%{y}<extra></extra>\",\"legendgroup\":\"ac_train\",\"line\":{\"color\":\"#636efa\",\"dash\":\"solid\"},\"marker\":{\"symbol\":\"circle\"},\"mode\":\"lines\",\"name\":\"ac_train\",\"orientation\":\"v\",\"showlegend\":true,\"x\":[0,1,2,3,4,5,6,7,8,9],\"xaxis\":\"x\",\"y\":[0.8438,0.8451,0.8464,0.8418,0.845,0.8409,0.8418,0.846,0.8439,0.8436],\"yaxis\":\"y\",\"type\":\"scatter\"},{\"hovertemplate\":\"variable=ac_valid<br>fold=%{x}<br>value=%{y}<extra></extra>\",\"legendgroup\":\"ac_valid\",\"line\":{\"color\":\"#EF553B\",\"dash\":\"solid\"},\"marker\":{\"symbol\":\"circle\"},\"mode\":\"lines\",\"name\":\"ac_valid\",\"orientation\":\"v\",\"showlegend\":true,\"x\":[0,1,2,3,4,5,6,7,8,9],\"xaxis\":\"x\",\"y\":[0.7908,0.8046,0.808,0.7986,0.7963,0.817,0.7975,0.817,0.7917,0.8021],\"yaxis\":\"y\",\"type\":\"scatter\"}],                        {\"template\":{\"data\":{\"histogram2dcontour\":[{\"type\":\"histogram2dcontour\",\"colorbar\":{\"outlinewidth\":0,\"ticks\":\"\"},\"colorscale\":[[0.0,\"#0d0887\"],[0.1111111111111111,\"#46039f\"],[0.2222222222222222,\"#7201a8\"],[0.3333333333333333,\"#9c179e\"],[0.4444444444444444,\"#bd3786\"],[0.5555555555555556,\"#d8576b\"],[0.6666666666666666,\"#ed7953\"],[0.7777777777777778,\"#fb9f3a\"],[0.8888888888888888,\"#fdca26\"],[1.0,\"#f0f921\"]]}],\"choropleth\":[{\"type\":\"choropleth\",\"colorbar\":{\"outlinewidth\":0,\"ticks\":\"\"}}],\"histogram2d\":[{\"type\":\"histogram2d\",\"colorbar\":{\"outlinewidth\":0,\"ticks\":\"\"},\"colorscale\":[[0.0,\"#0d0887\"],[0.1111111111111111,\"#46039f\"],[0.2222222222222222,\"#7201a8\"],[0.3333333333333333,\"#9c179e\"],[0.4444444444444444,\"#bd3786\"],[0.5555555555555556,\"#d8576b\"],[0.6666666666666666,\"#ed7953\"],[0.7777777777777778,\"#fb9f3a\"],[0.8888888888888888,\"#fdca26\"],[1.0,\"#f0f921\"]]}],\"heatmap\":[{\"type\":\"heatmap\",\"colorbar\":{\"outlinewidth\":0,\"ticks\":\"\"},\"colorscale\":[[0.0,\"#0d0887\"],[0.1111111111111111,\"#46039f\"],[0.2222222222222222,\"#7201a8\"],[0.3333333333333333,\"#9c179e\"],[0.4444444444444444,\"#bd3786\"],[0.5555555555555556,\"#d8576b\"],[0.6666666666666666,\"#ed7953\"],[0.7777777777777778,\"#fb9f3a\"],[0.8888888888888888,\"#fdca26\"],[1.0,\"#f0f921\"]]}],\"heatmapgl\":[{\"type\":\"heatmapgl\",\"colorbar\":{\"outlinewidth\":0,\"ticks\":\"\"},\"colorscale\":[[0.0,\"#0d0887\"],[0.1111111111111111,\"#46039f\"],[0.2222222222222222,\"#7201a8\"],[0.3333333333333333,\"#9c179e\"],[0.4444444444444444,\"#bd3786\"],[0.5555555555555556,\"#d8576b\"],[0.6666666666666666,\"#ed7953\"],[0.7777777777777778,\"#fb9f3a\"],[0.8888888888888888,\"#fdca26\"],[1.0,\"#f0f921\"]]}],\"contourcarpet\":[{\"type\":\"contourcarpet\",\"colorbar\":{\"outlinewidth\":0,\"ticks\":\"\"}}],\"contour\":[{\"type\":\"contour\",\"colorbar\":{\"outlinewidth\":0,\"ticks\":\"\"},\"colorscale\":[[0.0,\"#0d0887\"],[0.1111111111111111,\"#46039f\"],[0.2222222222222222,\"#7201a8\"],[0.3333333333333333,\"#9c179e\"],[0.4444444444444444,\"#bd3786\"],[0.5555555555555556,\"#d8576b\"],[0.6666666666666666,\"#ed7953\"],[0.7777777777777778,\"#fb9f3a\"],[0.8888888888888888,\"#fdca26\"],[1.0,\"#f0f921\"]]}],\"surface\":[{\"type\":\"surface\",\"colorbar\":{\"outlinewidth\":0,\"ticks\":\"\"},\"colorscale\":[[0.0,\"#0d0887\"],[0.1111111111111111,\"#46039f\"],[0.2222222222222222,\"#7201a8\"],[0.3333333333333333,\"#9c179e\"],[0.4444444444444444,\"#bd3786\"],[0.5555555555555556,\"#d8576b\"],[0.6666666666666666,\"#ed7953\"],[0.7777777777777778,\"#fb9f3a\"],[0.8888888888888888,\"#fdca26\"],[1.0,\"#f0f921\"]]}],\"mesh3d\":[{\"type\":\"mesh3d\",\"colorbar\":{\"outlinewidth\":0,\"ticks\":\"\"}}],\"scatter\":[{\"fillpattern\":{\"fillmode\":\"overlay\",\"size\":10,\"solidity\":0.2},\"type\":\"scatter\"}],\"parcoords\":[{\"type\":\"parcoords\",\"line\":{\"colorbar\":{\"outlinewidth\":0,\"ticks\":\"\"}}}],\"scatterpolargl\":[{\"type\":\"scatterpolargl\",\"marker\":{\"colorbar\":{\"outlinewidth\":0,\"ticks\":\"\"}}}],\"bar\":[{\"error_x\":{\"color\":\"#2a3f5f\"},\"error_y\":{\"color\":\"#2a3f5f\"},\"marker\":{\"line\":{\"color\":\"#E5ECF6\",\"width\":0.5},\"pattern\":{\"fillmode\":\"overlay\",\"size\":10,\"solidity\":0.2}},\"type\":\"bar\"}],\"scattergeo\":[{\"type\":\"scattergeo\",\"marker\":{\"colorbar\":{\"outlinewidth\":0,\"ticks\":\"\"}}}],\"scatterpolar\":[{\"type\":\"scatterpolar\",\"marker\":{\"colorbar\":{\"outlinewidth\":0,\"ticks\":\"\"}}}],\"histogram\":[{\"marker\":{\"pattern\":{\"fillmode\":\"overlay\",\"size\":10,\"solidity\":0.2}},\"type\":\"histogram\"}],\"scattergl\":[{\"type\":\"scattergl\",\"marker\":{\"colorbar\":{\"outlinewidth\":0,\"ticks\":\"\"}}}],\"scatter3d\":[{\"type\":\"scatter3d\",\"line\":{\"colorbar\":{\"outlinewidth\":0,\"ticks\":\"\"}},\"marker\":{\"colorbar\":{\"outlinewidth\":0,\"ticks\":\"\"}}}],\"scattermapbox\":[{\"type\":\"scattermapbox\",\"marker\":{\"colorbar\":{\"outlinewidth\":0,\"ticks\":\"\"}}}],\"scatterternary\":[{\"type\":\"scatterternary\",\"marker\":{\"colorbar\":{\"outlinewidth\":0,\"ticks\":\"\"}}}],\"scattercarpet\":[{\"type\":\"scattercarpet\",\"marker\":{\"colorbar\":{\"outlinewidth\":0,\"ticks\":\"\"}}}],\"carpet\":[{\"aaxis\":{\"endlinecolor\":\"#2a3f5f\",\"gridcolor\":\"white\",\"linecolor\":\"white\",\"minorgridcolor\":\"white\",\"startlinecolor\":\"#2a3f5f\"},\"baxis\":{\"endlinecolor\":\"#2a3f5f\",\"gridcolor\":\"white\",\"linecolor\":\"white\",\"minorgridcolor\":\"white\",\"startlinecolor\":\"#2a3f5f\"},\"type\":\"carpet\"}],\"table\":[{\"cells\":{\"fill\":{\"color\":\"#EBF0F8\"},\"line\":{\"color\":\"white\"}},\"header\":{\"fill\":{\"color\":\"#C8D4E3\"},\"line\":{\"color\":\"white\"}},\"type\":\"table\"}],\"barpolar\":[{\"marker\":{\"line\":{\"color\":\"#E5ECF6\",\"width\":0.5},\"pattern\":{\"fillmode\":\"overlay\",\"size\":10,\"solidity\":0.2}},\"type\":\"barpolar\"}],\"pie\":[{\"automargin\":true,\"type\":\"pie\"}]},\"layout\":{\"autotypenumbers\":\"strict\",\"colorway\":[\"#636efa\",\"#EF553B\",\"#00cc96\",\"#ab63fa\",\"#FFA15A\",\"#19d3f3\",\"#FF6692\",\"#B6E880\",\"#FF97FF\",\"#FECB52\"],\"font\":{\"color\":\"#2a3f5f\"},\"hovermode\":\"closest\",\"hoverlabel\":{\"align\":\"left\"},\"paper_bgcolor\":\"white\",\"plot_bgcolor\":\"#E5ECF6\",\"polar\":{\"bgcolor\":\"#E5ECF6\",\"angularaxis\":{\"gridcolor\":\"white\",\"linecolor\":\"white\",\"ticks\":\"\"},\"radialaxis\":{\"gridcolor\":\"white\",\"linecolor\":\"white\",\"ticks\":\"\"}},\"ternary\":{\"bgcolor\":\"#E5ECF6\",\"aaxis\":{\"gridcolor\":\"white\",\"linecolor\":\"white\",\"ticks\":\"\"},\"baxis\":{\"gridcolor\":\"white\",\"linecolor\":\"white\",\"ticks\":\"\"},\"caxis\":{\"gridcolor\":\"white\",\"linecolor\":\"white\",\"ticks\":\"\"}},\"coloraxis\":{\"colorbar\":{\"outlinewidth\":0,\"ticks\":\"\"}},\"colorscale\":{\"sequential\":[[0.0,\"#0d0887\"],[0.1111111111111111,\"#46039f\"],[0.2222222222222222,\"#7201a8\"],[0.3333333333333333,\"#9c179e\"],[0.4444444444444444,\"#bd3786\"],[0.5555555555555556,\"#d8576b\"],[0.6666666666666666,\"#ed7953\"],[0.7777777777777778,\"#fb9f3a\"],[0.8888888888888888,\"#fdca26\"],[1.0,\"#f0f921\"]],\"sequentialminus\":[[0.0,\"#0d0887\"],[0.1111111111111111,\"#46039f\"],[0.2222222222222222,\"#7201a8\"],[0.3333333333333333,\"#9c179e\"],[0.4444444444444444,\"#bd3786\"],[0.5555555555555556,\"#d8576b\"],[0.6666666666666666,\"#ed7953\"],[0.7777777777777778,\"#fb9f3a\"],[0.8888888888888888,\"#fdca26\"],[1.0,\"#f0f921\"]],\"diverging\":[[0,\"#8e0152\"],[0.1,\"#c51b7d\"],[0.2,\"#de77ae\"],[0.3,\"#f1b6da\"],[0.4,\"#fde0ef\"],[0.5,\"#f7f7f7\"],[0.6,\"#e6f5d0\"],[0.7,\"#b8e186\"],[0.8,\"#7fbc41\"],[0.9,\"#4d9221\"],[1,\"#276419\"]]},\"xaxis\":{\"gridcolor\":\"white\",\"linecolor\":\"white\",\"ticks\":\"\",\"title\":{\"standoff\":15},\"zerolinecolor\":\"white\",\"automargin\":true,\"zerolinewidth\":2},\"yaxis\":{\"gridcolor\":\"white\",\"linecolor\":\"white\",\"ticks\":\"\",\"title\":{\"standoff\":15},\"zerolinecolor\":\"white\",\"automargin\":true,\"zerolinewidth\":2},\"scene\":{\"xaxis\":{\"backgroundcolor\":\"#E5ECF6\",\"gridcolor\":\"white\",\"linecolor\":\"white\",\"showbackground\":true,\"ticks\":\"\",\"zerolinecolor\":\"white\",\"gridwidth\":2},\"yaxis\":{\"backgroundcolor\":\"#E5ECF6\",\"gridcolor\":\"white\",\"linecolor\":\"white\",\"showbackground\":true,\"ticks\":\"\",\"zerolinecolor\":\"white\",\"gridwidth\":2},\"zaxis\":{\"backgroundcolor\":\"#E5ECF6\",\"gridcolor\":\"white\",\"linecolor\":\"white\",\"showbackground\":true,\"ticks\":\"\",\"zerolinecolor\":\"white\",\"gridwidth\":2}},\"shapedefaults\":{\"line\":{\"color\":\"#2a3f5f\"}},\"annotationdefaults\":{\"arrowcolor\":\"#2a3f5f\",\"arrowhead\":0,\"arrowwidth\":1},\"geo\":{\"bgcolor\":\"white\",\"landcolor\":\"#E5ECF6\",\"subunitcolor\":\"white\",\"showland\":true,\"showlakes\":true,\"lakecolor\":\"white\"},\"title\":{\"x\":0.05},\"mapbox\":{\"style\":\"light\"}}},\"xaxis\":{\"anchor\":\"y\",\"domain\":[0.0,1.0],\"title\":{\"text\":\"fold\"}},\"yaxis\":{\"anchor\":\"x\",\"domain\":[0.0,1.0],\"title\":{\"text\":\"value\"}},\"legend\":{\"title\":{\"text\":\"variable\"},\"tracegroupgap\":0},\"margin\":{\"t\":60}},                        {\"responsive\": true}                    ).then(function(){\n",
       "                            \n",
       "var gd = document.getElementById('4cc300e5-e108-4761-a45b-bff8d4630b1f');\n",
       "var x = new MutationObserver(function (mutations, observer) {{\n",
       "        var display = window.getComputedStyle(gd).display;\n",
       "        if (!display || display === 'none') {{\n",
       "            console.log([gd, 'removed!']);\n",
       "            Plotly.purge(gd);\n",
       "            observer.disconnect();\n",
       "        }}\n",
       "}});\n",
       "\n",
       "// Listen for the removal of the full notebook cells\n",
       "var notebookContainer = gd.closest('#notebook-container');\n",
       "if (notebookContainer) {{\n",
       "    x.observe(notebookContainer, {childList: true});\n",
       "}}\n",
       "\n",
       "// Listen for the clearing of the current output cell\n",
       "var outputEl = gd.closest('.output');\n",
       "if (outputEl) {{\n",
       "    x.observe(outputEl, {childList: true});\n",
       "}}\n",
       "\n",
       "                        })                };                });            </script>        </div>"
      ]
     },
     "metadata": {},
     "output_type": "display_data"
    }
   ],
   "source": [
    "#xgboost\n",
    "\n",
    "cv=10\n",
    "metric = []\n",
    "accu_tr_list= list()\n",
    "accu_te_list = list()\n",
    "params = {\"n_estimators\":392,\n",
    "          \"subsample\": 0.1,\n",
    "          'max_depth':150,\n",
    "          'learning_rate':0.02,\n",
    "           'gamma':0.30,\n",
    "           'reg_alpha':0.2,\n",
    "           'reg_lambda':0.2}\n",
    "\n",
    "kfold = KFold(n_splits=cv,random_state=42,shuffle=True)\n",
    "for idx,(train_idx, val_idx) in enumerate(kfold.split(train)):\n",
    "    xtrain, xvalid = X.loc[train_idx], X.loc[val_idx]\n",
    "    ytrain, yvalid = y.loc[train_idx], y.loc[val_idx]\n",
    "    \n",
    "    #initializing a model\n",
    "    xgb_clf = XGBClassifier(**params,)\n",
    "    xgb_clf.fit(xtrain,ytrain,early_stopping_rounds=5, eval_set=[(xvalid,yvalid)],verbose=False)\n",
    "    pred_train= xgb_clf.predict(xtrain)\n",
    "    preds = xgb_clf.predict(xvalid)\n",
    "    #evaluation metric\n",
    "    accuracy_train = accuracy_score(ytrain,pred_train)\n",
    "    accuracy = accuracy_score(yvalid,preds)\n",
    "    metric.append(accuracy)\n",
    "    accu_tr_list.append(accuracy_train)\n",
    "    accu_te_list.append(accuracy)\n",
    "    print(f\"accuracy in fold:{idx} is: {accuracy} and in train_set is : {accuracy_train}\")\n",
    "    \n",
    "print(f\"mean accuracy in {cv}folds is: {np.mean(metric)}\") \n",
    "\n",
    "# plotting the accuracy in each fold\n",
    "acc_df = pd.DataFrame({'fold':np.arange(cv),'ac_train':np.around(np.array(accu_tr_list),4),\n",
    "                       'ac_valid':np.around(np.array(accu_te_list),4)})\n",
    "\n",
    "fig = px.line(acc_df,x='fold',y=acc_df.columns[1:])\n",
    "fig.show()"
   ]
  },
  {
   "cell_type": "code",
   "execution_count": 56,
   "id": "16bd866a",
   "metadata": {
    "execution": {
     "iopub.execute_input": "2023-01-22T11:28:41.664287Z",
     "iopub.status.busy": "2023-01-22T11:28:41.663017Z",
     "iopub.status.idle": "2023-01-22T11:28:42.049258Z",
     "shell.execute_reply": "2023-01-22T11:28:42.048178Z"
    },
    "papermill": {
     "duration": 0.417802,
     "end_time": "2023-01-22T11:28:42.051380",
     "exception": false,
     "start_time": "2023-01-22T11:28:41.633578",
     "status": "completed"
    },
    "tags": []
   },
   "outputs": [
    {
     "data": {
      "text/plain": [
       "Text(0.5, 0, 'Feature Importance')"
      ]
     },
     "execution_count": 56,
     "metadata": {},
     "output_type": "execute_result"
    },
    {
     "data": {
      "image/png": "[encoded data removed]",
      "text/plain": [
       "<Figure size 720x720 with 1 Axes>"
      ]
     },
     "metadata": {},
     "output_type": "display_data"
    }
   ],
   "source": [
    "#code from this discussion: https://www.kaggle.com/code/umongsain/majority-voting-for-spaceship-score-0-8/comments\n",
    "\n",
    "importances = xgb_clf.feature_importances_\n",
    "importances\n",
    "indices = np.argsort(importances)\n",
    "plt.figure(figsize=(10, 10))\n",
    "plt.title('Feature Importances')\n",
    "plt.barh(range(len(indices)), importances[indices], color='b', align='center')\n",
    "plt.yticks(range(len(indices)), [X.columns[i] for i in indices])\n",
    "plt.xlabel('Feature Importance')"
   ]
  },
  {
   "cell_type": "code",
   "execution_count": 57,
   "id": "77ae1dc7",
   "metadata": {
    "execution": {
     "iopub.execute_input": "2023-01-22T11:28:42.113645Z",
     "iopub.status.busy": "2023-01-22T11:28:42.112412Z",
     "iopub.status.idle": "2023-01-22T11:28:57.850082Z",
     "shell.execute_reply": "2023-01-22T11:28:57.848902Z"
    },
    "papermill": {
     "duration": 15.770567,
     "end_time": "2023-01-22T11:28:57.852697",
     "exception": false,
     "start_time": "2023-01-22T11:28:42.082130",
     "status": "completed"
    },
    "tags": []
   },
   "outputs": [
    {
     "data": {
      "image/png": "[encoded data removed]",
      "text/plain": [
       "<Figure size 576x468 with 3 Axes>"
      ]
     },
     "metadata": {},
     "output_type": "display_data"
    }
   ],
   "source": [
    "explainer = shap.Explainer(xgb_clf)\n",
    "shap_values = explainer(X)\n",
    "\n",
    "shap.plots.waterfall(shap_values[0])"
   ]
  },
  {
   "cell_type": "code",
   "execution_count": 58,
   "id": "94f47281",
   "metadata": {
    "execution": {
     "iopub.execute_input": "2023-01-22T11:28:57.918030Z",
     "iopub.status.busy": "2023-01-22T11:28:57.916527Z",
     "iopub.status.idle": "2023-01-22T11:28:57.924964Z",
     "shell.execute_reply": "2023-01-22T11:28:57.924090Z"
    },
    "papermill": {
     "duration": 0.042694,
     "end_time": "2023-01-22T11:28:57.927351",
     "exception": false,
     "start_time": "2023-01-22T11:28:57.884657",
     "status": "completed"
    },
    "tags": []
   },
   "outputs": [],
   "source": [
    "X_test = test[features]\n"
   ]
  },
  {
   "cell_type": "code",
   "execution_count": 59,
   "id": "b652f06a",
   "metadata": {
    "execution": {
     "iopub.execute_input": "2023-01-22T11:28:57.992602Z",
     "iopub.status.busy": "2023-01-22T11:28:57.991237Z",
     "iopub.status.idle": "2023-01-22T11:28:58.019956Z",
     "shell.execute_reply": "2023-01-22T11:28:58.018859Z"
    },
    "papermill": {
     "duration": 0.064101,
     "end_time": "2023-01-22T11:28:58.022918",
     "exception": false,
     "start_time": "2023-01-22T11:28:57.958817",
     "status": "completed"
    },
    "tags": []
   },
   "outputs": [],
   "source": [
    "preds_test = xgb_clf.predict(X_test)\n",
    "ids = test_c['PassengerId'].values\n"
   ]
  },
  {
   "cell_type": "code",
   "execution_count": 60,
   "id": "04e430d1",
   "metadata": {
    "execution": {
     "iopub.execute_input": "2023-01-22T11:28:58.087101Z",
     "iopub.status.busy": "2023-01-22T11:28:58.086053Z",
     "iopub.status.idle": "2023-01-22T11:28:58.099416Z",
     "shell.execute_reply": "2023-01-22T11:28:58.098507Z"
    },
    "papermill": {
     "duration": 0.048143,
     "end_time": "2023-01-22T11:28:58.102026",
     "exception": false,
     "start_time": "2023-01-22T11:28:58.053883",
     "status": "completed"
    },
    "tags": []
   },
   "outputs": [
    {
     "data": {
      "text/html": [
       "<div>\n",
       "<style scoped>\n",
       "    .dataframe tbody tr th:only-of-type {\n",
       "        vertical-align: middle;\n",
       "    }\n",
       "\n",
       "    .dataframe tbody tr th {\n",
       "        vertical-align: top;\n",
       "    }\n",
       "\n",
       "    .dataframe thead th {\n",
       "        text-align: right;\n",
       "    }\n",
       "</style>\n",
       "<table border=\"1\" class=\"dataframe\">\n",
       "  <thead>\n",
       "    <tr style=\"text-align: right;\">\n",
       "      <th></th>\n",
       "      <th>PassengerId</th>\n",
       "      <th>Transported</th>\n",
       "    </tr>\n",
       "  </thead>\n",
       "  <tbody>\n",
       "    <tr>\n",
       "      <th>0</th>\n",
       "      <td>0013_01</td>\n",
       "      <td>True</td>\n",
       "    </tr>\n",
       "    <tr>\n",
       "      <th>1</th>\n",
       "      <td>0018_01</td>\n",
       "      <td>False</td>\n",
       "    </tr>\n",
       "    <tr>\n",
       "      <th>2</th>\n",
       "      <td>0019_01</td>\n",
       "      <td>True</td>\n",
       "    </tr>\n",
       "    <tr>\n",
       "      <th>3</th>\n",
       "      <td>0021_01</td>\n",
       "      <td>True</td>\n",
       "    </tr>\n",
       "    <tr>\n",
       "      <th>4</th>\n",
       "      <td>0023_01</td>\n",
       "      <td>False</td>\n",
       "    </tr>\n",
       "  </tbody>\n",
       "</table>\n",
       "</div>"
      ],
      "text/plain": [
       "  PassengerId  Transported\n",
       "0     0013_01         True\n",
       "1     0018_01        False\n",
       "2     0019_01         True\n",
       "3     0021_01         True\n",
       "4     0023_01        False"
      ]
     },
     "execution_count": 60,
     "metadata": {},
     "output_type": "execute_result"
    }
   ],
   "source": [
    "submission_file = pd.DataFrame(data={\"PassengerId\": ids, \"Transported\": preds_test})\n",
    "submission_file['Transported'] = submission_file['Transported'].astype('bool')\n",
    "submission_file.head()"
   ]
  },
  {
   "cell_type": "code",
   "execution_count": 61,
   "id": "0cf91e22",
   "metadata": {
    "execution": {
     "iopub.execute_input": "2023-01-22T11:28:58.167373Z",
     "iopub.status.busy": "2023-01-22T11:28:58.166280Z",
     "iopub.status.idle": "2023-01-22T11:28:58.180433Z",
     "shell.execute_reply": "2023-01-22T11:28:58.179346Z"
    },
    "papermill": {
     "duration": 0.049154,
     "end_time": "2023-01-22T11:28:58.182979",
     "exception": false,
     "start_time": "2023-01-22T11:28:58.133825",
     "status": "completed"
    },
    "tags": []
   },
   "outputs": [],
   "source": [
    "#final submission file\n",
    "submission_file.to_csv(\"submission.csv\",index=None)"
   ]
  },
  {
   "cell_type": "code",
   "execution_count": null,
   "id": "f2a6b839",
   "metadata": {
    "papermill": {
     "duration": 0.029773,
     "end_time": "2023-01-22T11:28:58.243741",
     "exception": false,
     "start_time": "2023-01-22T11:28:58.213968",
     "status": "completed"
    },
    "tags": []
   },
   "outputs": [],
   "source": []
  }
 ],
 "metadata": {
  "kernelspec": {
   "display_name": "Python 3",
   "language": "python",
   "name": "python3"
  },
  "language_info": {
   "codemirror_mode": {
    "name": "ipython",
    "version": 3
   },
   "file_extension": ".py",
   "mimetype": "text/x-python",
   "name": "python",
   "nbconvert_exporter": "python",
   "pygments_lexer": "ipython3",
   "version": "3.7.12"
  },
  "papermill": {
   "default_parameters": {},
   "duration": 83.906698,
   "end_time": "2023-01-22T11:28:59.899866",
   "environment_variables": {},
   "exception": null,
   "input_path": "__notebook__.ipynb",
   "output_path": "__notebook__.ipynb",
   "parameters": {},
   "start_time": "2023-01-22T11:27:35.993168",
   "version": "2.3.4"
  }
 },
 "nbformat": 4,
 "nbformat_minor": 5
}
